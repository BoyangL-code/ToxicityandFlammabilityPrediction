{
 "cells": [
  {
   "cell_type": "code",
   "execution_count": 1,
   "id": "7484b761-dc13-4562-bdd5-1077d23735a2",
   "metadata": {},
   "outputs": [],
   "source": [
    "import warnings\n",
    "from rdkit import RDLogger\n",
    "\n",
    "# 屏蔽 RDKit 警告\n",
    "RDLogger.DisableLog('rdApp.*')\n",
    "\n",
    "# 或屏蔽所有 Python 警告\n",
    "warnings.filterwarnings(\"ignore\")\n",
    "# 屏蔽 LightGBM 警告\n",
    "warnings.filterwarnings(\"ignore\", category=UserWarning, module=\"lightgbm\")"
   ]
  },
  {
   "cell_type": "code",
   "execution_count": 2,
   "id": "bb342f41-672a-4e66-957e-e317512d8611",
   "metadata": {},
   "outputs": [],
   "source": [
    "import torch\n",
    "from sklearn.model_selection import StratifiedKFold\n",
    "import pandas as pd\n",
    "import numpy as np\n",
    "from rdkit import Chem\n",
    "from rdkit.Chem import AllChem\n",
    "from sklearn.metrics import precision_recall_curve, auc, f1_score, precision_score, recall_score, accuracy_score\n",
    "from xgboost import XGBClassifier\n",
    "import joblib\n",
    "from tqdm import tqdm\n",
    "from rdkit.Chem import Descriptors, AllChem\n",
    "\n",
    "from sklearn.metrics import roc_curve\n",
    "\n",
    "\n",
    "\n",
    "# 数据预处理\n",
    "df = pd.read_csv('imputed_selected_features_Flam.csv')\n",
    "labels = df['Flammability'].values\n",
    "smiles_list = df['SMILES'].tolist()\n",
    "\n",
    "# 函数：将SMILES转换为分子描述符和指纹\n",
    "def smiles_to_features(smiles):\n",
    "    mol = Chem.MolFromSmiles(smiles)\n",
    "    if mol is None:\n",
    "        return None\n",
    "    # 提取描述符\n",
    "    descriptors = [\n",
    "        Descriptors.MolWt(mol),  # 分子量\n",
    "        Descriptors.MolLogP(mol),  # LogP\n",
    "        Descriptors.NumHDonors(mol),  # 氢键供体数量\n",
    "        Descriptors.NumHAcceptors(mol)  # 氢键受体数量\n",
    "    ]\n",
    "    # 生成Morgan指纹\n",
    "    fingerprint = AllChem.GetMorganFingerprintAsBitVect(mol, 2, nBits=2048)\n",
    "    fingerprint_array = np.zeros((2048,))\n",
    "    Chem.DataStructs.ConvertToNumpyArray(fingerprint, fingerprint_array)\n",
    "    # 合并描述符和指纹\n",
    "    features = np.concatenate([descriptors, fingerprint_array])\n",
    "    return features\n",
    "\n",
    "# 将SMILES转换为特征\n",
    "features = []\n",
    "for smiles in smiles_list:\n",
    "    feature = smiles_to_features(smiles)\n",
    "    if feature is not None:\n",
    "        features.append(feature)\n",
    "\n",
    "# 转换为numpy数组\n",
    "features = np.array(features)\n",
    "\n",
    "y = labels\n",
    "X = np.array(features)\n",
    "\n",
    "# 直接使用最优参数进行五折交叉验证\n",
    "def train_evaluate_with_best_params(model_name, model_class, best_params, X, y):\n",
    "    # 创建模型并设置最优参数\n",
    "    model = model_class(**best_params)\n",
    "\n",
    "    # 五折交叉验证\n",
    "    skf = StratifiedKFold(n_splits=5, shuffle=True, random_state=42)\n",
    "    \n",
    "    # 存储各个折的评价指标\n",
    "    metrics_train = {'PR-AUC': [], 'AU-ROC': [], 'ACC': [], 'PREC': [], 'REC': [], 'F1': []}\n",
    "    metrics_test = {'PR-AUC': [], 'AU-ROC': [], 'ACC': [], 'PREC': [], 'REC': [], 'F1': []}\n",
    "    \n",
    "    # 使用 tqdm 包裹五折交叉验证的每一折\n",
    "    for fold, (train_idx, val_idx) in enumerate(tqdm(skf.split(X, y), total=5, desc=f\"Training {model_name}\")):\n",
    "        X_train, X_val = X[train_idx], X[val_idx]\n",
    "        y_train, y_val = y[train_idx], y[val_idx]\n",
    "\n",
    "        model.fit(X_train, y_train)\n",
    "        \n",
    "        # 训练集指标\n",
    "        y_prob_train = model.predict_proba(X_train)[:, 1]\n",
    "        precision_train, recall_train, _ = precision_recall_curve(y_train, y_prob_train)\n",
    "        pr_auc_train = auc(recall_train, precision_train)\n",
    "        metrics_train['PR-AUC'].append(pr_auc_train)\n",
    "\n",
    "        fpr_train, tpr_train, _ = roc_curve(y_train, y_prob_train)\n",
    "        auc_train = auc(fpr_train, tpr_train)\n",
    "        metrics_train['AU-ROC'].append(auc_train)\n",
    "\n",
    "        accuracy_train = accuracy_score(y_train, (y_prob_train > 0.5).astype(int))\n",
    "        metrics_train['ACC'].append(accuracy_train)\n",
    "\n",
    "        precision_train_val = precision_score(y_train, (y_prob_train > 0.5).astype(int))\n",
    "        metrics_train['PREC'].append(precision_train_val)\n",
    "\n",
    "        recall_train_val = recall_score(y_train, (y_prob_train > 0.5).astype(int))\n",
    "        metrics_train['REC'].append(recall_train_val)\n",
    "\n",
    "        f1_train_val = f1_score(y_train, (y_prob_train > 0.5).astype(int))\n",
    "        metrics_train['F1'].append(f1_train_val)\n",
    "\n",
    "        # 测试集指标\n",
    "        y_prob_test = model.predict_proba(X_val)[:, 1]\n",
    "        precision_test, recall_test, _ = precision_recall_curve(y_val, y_prob_test)\n",
    "        pr_auc_test = auc(recall_test, precision_test)\n",
    "        metrics_test['PR-AUC'].append(pr_auc_test)\n",
    "\n",
    "        fpr_test, tpr_test, _ = roc_curve(y_val, y_prob_test)\n",
    "        auc_test = auc(fpr_test, tpr_test)\n",
    "        metrics_test['AU-ROC'].append(auc_test)\n",
    "\n",
    "        accuracy_test = accuracy_score(y_val, (y_prob_test > 0.5).astype(int))\n",
    "        metrics_test['ACC'].append(accuracy_test)\n",
    "\n",
    "        precision_test_val = precision_score(y_val, (y_prob_test > 0.5).astype(int))\n",
    "        metrics_test['PREC'].append(precision_test_val)\n",
    "\n",
    "        recall_test_val = recall_score(y_val, (y_prob_test > 0.5).astype(int))\n",
    "        metrics_test['REC'].append(recall_test_val)\n",
    "\n",
    "        f1_test_val = f1_score(y_val, (y_prob_test > 0.5).astype(int))\n",
    "        metrics_test['F1'].append(f1_test_val)\n",
    "\n",
    "        # 输出当前折的训练集和测试集评价指标\n",
    "        print(f\"Fold {fold + 1} - Train metrics:\")\n",
    "        for metric, values in metrics_train.items():\n",
    "            print(f\"  {metric}: {values[-1]:.4f}\")\n",
    "        \n",
    "        print(f\"Fold {fold + 1} - Test metrics:\")\n",
    "        for metric, values in metrics_test.items():\n",
    "            print(f\"  {metric}: {values[-1]:.4f}\")\n",
    "        print()\n",
    "\n",
    "        # 将训练集和测试集的结果合并成一个 DataFrame\n",
    "    results = {\n",
    "        'Metric': ['PR-AUC', 'AU-ROC', 'F1', 'REC', 'PREC', 'ACC'],\n",
    "        'Train': [\n",
    "            np.mean(metrics_train['PR-AUC']),\n",
    "            np.mean(metrics_train['AU-ROC']),\n",
    "            np.mean(metrics_train['F1']),\n",
    "            np.mean(metrics_train['REC']),\n",
    "            np.mean(metrics_train['PREC']),\n",
    "            np.mean(metrics_train['ACC'])\n",
    "        ],\n",
    "        'Test': [\n",
    "            np.mean(metrics_test['PR-AUC']),\n",
    "            np.mean(metrics_test['AU-ROC']),\n",
    "            np.mean(metrics_test['F1']),\n",
    "            np.mean(metrics_test['REC']),\n",
    "            np.mean(metrics_test['PREC']),\n",
    "            np.mean(metrics_test['ACC'])\n",
    "        ]\n",
    "    }\n",
    "    \n",
    "    df_results = pd.DataFrame(results)\n",
    "\n",
    "    # 保存结果到CSV文件\n",
    "    df_results.to_csv(f'{model_name}_evaluation_metrics.csv', index=False)\n",
    "    print(f\"Metrics saved to {model_name}_evaluation_metrics.csv\")\n",
    "\n",
    "\n",
    "\n",
    "\n",
    "    \n",
    "    # 输出每个评价指标的训练集和测试集平均值\n",
    "    print(f'Average Train PR AUC: {np.mean(metrics_train[\"PR-AUC\"]):.4f}')\n",
    "    print(f'Average Test PR AUC: {np.mean(metrics_test[\"PR-AUC\"]):.4f}')\n",
    "\n",
    "    print(f'Average Train AU-ROC: {np.mean(metrics_train[\"AU-ROC\"]):.4f}')\n",
    "    print(f'Average Test AU-ROC: {np.mean(metrics_test[\"AU-ROC\"]):.4f}')\n",
    "\n",
    "    print(f'Average Train Accuracy: {np.mean(metrics_train[\"ACC\"]):.4f}')\n",
    "    print(f'Average Test Accuracy: {np.mean(metrics_test[\"ACC\"]):.4f}')\n",
    "\n",
    "    print(f'Average Train Precision: {np.mean(metrics_train[\"PREC\"]):.4f}')\n",
    "    print(f'Average Test Precision: {np.mean(metrics_test[\"PREC\"]):.4f}')\n",
    "\n",
    "    print(f'Average Train Recall: {np.mean(metrics_train[\"REC\"]):.4f}')\n",
    "    print(f'Average Test Recall: {np.mean(metrics_test[\"REC\"]):.4f}')\n",
    "\n",
    "    print(f'Average Train F1: {np.mean(metrics_train[\"F1\"]):.4f}')\n",
    "    print(f'Average Test F1: {np.mean(metrics_test[\"F1\"]):.4f}')\n",
    "\n",
    "\n"
   ]
  },
  {
   "cell_type": "code",
   "execution_count": 3,
   "id": "cb5642ed-c006-48a5-a52f-dcd3e07321f4",
   "metadata": {},
   "outputs": [
    {
     "name": "stderr",
     "output_type": "stream",
     "text": [
      "Training XGBoost:  20%|██        | 1/5 [00:00<00:03,  1.14it/s]"
     ]
    },
    {
     "name": "stdout",
     "output_type": "stream",
     "text": [
      "Fold 1 - Train metrics:\n",
      "  PR-AUC: 1.0000\n",
      "  AU-ROC: 0.9998\n",
      "  ACC: 0.9965\n",
      "  PREC: 0.9964\n",
      "  REC: 1.0000\n",
      "  F1: 0.9982\n",
      "Fold 1 - Test metrics:\n",
      "  PR-AUC: 0.9924\n",
      "  AU-ROC: 0.7880\n",
      "  ACC: 0.9577\n",
      "  PREC: 0.9714\n",
      "  REC: 0.9855\n",
      "  F1: 0.9784\n",
      "\n"
     ]
    },
    {
     "name": "stderr",
     "output_type": "stream",
     "text": [
      "Training XGBoost:  40%|████      | 2/5 [00:01<00:02,  1.13it/s]"
     ]
    },
    {
     "name": "stdout",
     "output_type": "stream",
     "text": [
      "Fold 2 - Train metrics:\n",
      "  PR-AUC: 1.0000\n",
      "  AU-ROC: 1.0000\n",
      "  ACC: 0.9947\n",
      "  PREC: 0.9946\n",
      "  REC: 1.0000\n",
      "  F1: 0.9973\n",
      "Fold 2 - Test metrics:\n",
      "  PR-AUC: 0.9923\n",
      "  AU-ROC: 0.7880\n",
      "  ACC: 0.9718\n",
      "  PREC: 0.9718\n",
      "  REC: 1.0000\n",
      "  F1: 0.9857\n",
      "\n"
     ]
    },
    {
     "name": "stderr",
     "output_type": "stream",
     "text": [
      "Training XGBoost:  60%|██████    | 3/5 [00:02<00:01,  1.14it/s]"
     ]
    },
    {
     "name": "stdout",
     "output_type": "stream",
     "text": [
      "Fold 3 - Train metrics:\n",
      "  PR-AUC: 1.0000\n",
      "  AU-ROC: 0.9999\n",
      "  ACC: 0.9965\n",
      "  PREC: 0.9964\n",
      "  REC: 1.0000\n",
      "  F1: 0.9982\n",
      "Fold 3 - Test metrics:\n",
      "  PR-AUC: 0.9945\n",
      "  AU-ROC: 0.8605\n",
      "  ACC: 0.9718\n",
      "  PREC: 0.9786\n",
      "  REC: 0.9928\n",
      "  F1: 0.9856\n",
      "\n"
     ]
    },
    {
     "name": "stderr",
     "output_type": "stream",
     "text": [
      "Training XGBoost:  80%|████████  | 4/5 [00:03<00:00,  1.14it/s]"
     ]
    },
    {
     "name": "stdout",
     "output_type": "stream",
     "text": [
      "Fold 4 - Train metrics:\n",
      "  PR-AUC: 1.0000\n",
      "  AU-ROC: 1.0000\n",
      "  ACC: 0.9912\n",
      "  PREC: 0.9910\n",
      "  REC: 1.0000\n",
      "  F1: 0.9955\n",
      "Fold 4 - Test metrics:\n",
      "  PR-AUC: 0.9995\n",
      "  AU-ROC: 0.9836\n",
      "  ACC: 0.9787\n",
      "  PREC: 0.9855\n",
      "  REC: 0.9927\n",
      "  F1: 0.9891\n",
      "\n"
     ]
    },
    {
     "name": "stderr",
     "output_type": "stream",
     "text": [
      "Training XGBoost: 100%|██████████| 5/5 [00:04<00:00,  1.14it/s]"
     ]
    },
    {
     "name": "stdout",
     "output_type": "stream",
     "text": [
      "Fold 5 - Train metrics:\n",
      "  PR-AUC: 1.0000\n",
      "  AU-ROC: 1.0000\n",
      "  ACC: 0.9965\n",
      "  PREC: 0.9964\n",
      "  REC: 1.0000\n",
      "  F1: 0.9982\n",
      "Fold 5 - Test metrics:\n",
      "  PR-AUC: 0.9906\n",
      "  AU-ROC: 0.7464\n",
      "  ACC: 0.9504\n",
      "  PREC: 0.9710\n",
      "  REC: 0.9781\n",
      "  F1: 0.9745\n",
      "\n",
      "Metrics saved to XGBoost_evaluation_metrics.csv\n",
      "Average Train PR AUC: 1.0000\n",
      "Average Test PR AUC: 0.9939\n",
      "Average Train AU-ROC: 0.9999\n",
      "Average Test AU-ROC: 0.8333\n",
      "Average Train Accuracy: 0.9951\n",
      "Average Test Accuracy: 0.9661\n",
      "Average Train Precision: 0.9949\n",
      "Average Test Precision: 0.9757\n",
      "Average Train Recall: 1.0000\n",
      "Average Test Recall: 0.9898\n",
      "Average Train F1: 0.9975\n",
      "Average Test F1: 0.9827\n"
     ]
    },
    {
     "name": "stderr",
     "output_type": "stream",
     "text": [
      "\n"
     ]
    }
   ],
   "source": [
    "# 最优参数\n",
    "best_params_xgb = {\n",
    "    'n_estimators': 368,\n",
    "    'max_depth': 1,\n",
    "    'learning_rate': 0.5946860775199619,\n",
    "    'eval_metric': 'error'  \n",
    "}\n",
    "\n",
    "# 训练并评估 XGBoost 模型\n",
    "train_evaluate_with_best_params(\"XGBoost\", XGBClassifier, best_params_xgb, X, y)"
   ]
  },
  {
   "cell_type": "code",
   "execution_count": 4,
   "id": "a566550d-a468-448a-bc32-f7dd76b431fc",
   "metadata": {},
   "outputs": [
    {
     "name": "stderr",
     "output_type": "stream",
     "text": [
      "Training RandomForest:  20%|██        | 1/5 [00:00<00:01,  2.14it/s]"
     ]
    },
    {
     "name": "stdout",
     "output_type": "stream",
     "text": [
      "Fold 1 - Train metrics:\n",
      "  PR-AUC: 1.0000\n",
      "  AU-ROC: 1.0000\n",
      "  ACC: 0.9735\n",
      "  PREC: 0.9735\n",
      "  REC: 1.0000\n",
      "  F1: 0.9865\n",
      "Fold 1 - Test metrics:\n",
      "  PR-AUC: 0.9934\n",
      "  AU-ROC: 0.8080\n",
      "  ACC: 0.9718\n",
      "  PREC: 0.9718\n",
      "  REC: 1.0000\n",
      "  F1: 0.9857\n",
      "\n"
     ]
    },
    {
     "name": "stderr",
     "output_type": "stream",
     "text": [
      "Training RandomForest:  40%|████      | 2/5 [00:00<00:01,  2.17it/s]"
     ]
    },
    {
     "name": "stdout",
     "output_type": "stream",
     "text": [
      "Fold 2 - Train metrics:\n",
      "  PR-AUC: 1.0000\n",
      "  AU-ROC: 1.0000\n",
      "  ACC: 0.9735\n",
      "  PREC: 0.9735\n",
      "  REC: 1.0000\n",
      "  F1: 0.9865\n",
      "Fold 2 - Test metrics:\n",
      "  PR-AUC: 0.9764\n",
      "  AU-ROC: 0.5960\n",
      "  ACC: 0.9718\n",
      "  PREC: 0.9718\n",
      "  REC: 1.0000\n",
      "  F1: 0.9857\n",
      "\n"
     ]
    },
    {
     "name": "stderr",
     "output_type": "stream",
     "text": [
      "Training RandomForest:  60%|██████    | 3/5 [00:01<00:00,  2.18it/s]"
     ]
    },
    {
     "name": "stdout",
     "output_type": "stream",
     "text": [
      "Fold 3 - Train metrics:\n",
      "  PR-AUC: 1.0000\n",
      "  AU-ROC: 1.0000\n",
      "  ACC: 0.9753\n",
      "  PREC: 0.9752\n",
      "  REC: 1.0000\n",
      "  F1: 0.9874\n",
      "Fold 3 - Test metrics:\n",
      "  PR-AUC: 0.9962\n",
      "  AU-ROC: 0.8786\n",
      "  ACC: 0.9718\n",
      "  PREC: 0.9718\n",
      "  REC: 1.0000\n",
      "  F1: 0.9857\n",
      "\n"
     ]
    },
    {
     "name": "stderr",
     "output_type": "stream",
     "text": [
      "Training RandomForest:  80%|████████  | 4/5 [00:01<00:00,  2.18it/s]"
     ]
    },
    {
     "name": "stdout",
     "output_type": "stream",
     "text": [
      "Fold 4 - Train metrics:\n",
      "  PR-AUC: 1.0000\n",
      "  AU-ROC: 0.9999\n",
      "  ACC: 0.9718\n",
      "  PREC: 0.9718\n",
      "  REC: 1.0000\n",
      "  F1: 0.9857\n",
      "Fold 4 - Test metrics:\n",
      "  PR-AUC: 0.9961\n",
      "  AU-ROC: 0.8814\n",
      "  ACC: 0.9716\n",
      "  PREC: 0.9716\n",
      "  REC: 1.0000\n",
      "  F1: 0.9856\n",
      "\n"
     ]
    },
    {
     "name": "stderr",
     "output_type": "stream",
     "text": [
      "Training RandomForest: 100%|██████████| 5/5 [00:02<00:00,  2.15it/s]"
     ]
    },
    {
     "name": "stdout",
     "output_type": "stream",
     "text": [
      "Fold 5 - Train metrics:\n",
      "  PR-AUC: 1.0000\n",
      "  AU-ROC: 0.9999\n",
      "  ACC: 0.9735\n",
      "  PREC: 0.9735\n",
      "  REC: 1.0000\n",
      "  F1: 0.9866\n",
      "Fold 5 - Test metrics:\n",
      "  PR-AUC: 0.9945\n",
      "  AU-ROC: 0.8358\n",
      "  ACC: 0.9716\n",
      "  PREC: 0.9716\n",
      "  REC: 1.0000\n",
      "  F1: 0.9856\n",
      "\n",
      "Metrics saved to RandomForest_evaluation_metrics.csv\n",
      "Average Train PR AUC: 1.0000\n",
      "Average Test PR AUC: 0.9913\n",
      "Average Train AU-ROC: 1.0000\n",
      "Average Test AU-ROC: 0.8000\n",
      "Average Train Accuracy: 0.9735\n",
      "Average Test Accuracy: 0.9718\n",
      "Average Train Precision: 0.9735\n",
      "Average Test Precision: 0.9718\n",
      "Average Train Recall: 1.0000\n",
      "Average Test Recall: 1.0000\n",
      "Average Train F1: 0.9866\n",
      "Average Test F1: 0.9857\n"
     ]
    },
    {
     "name": "stderr",
     "output_type": "stream",
     "text": [
      "\n"
     ]
    }
   ],
   "source": [
    "\n",
    "from sklearn.ensemble import RandomForestClassifier\n",
    "\n",
    "# 最优参数（随机森林）\n",
    "best_params_rf = {'n_estimators': 310, 'max_depth': 40, 'min_samples_split': 0.01747361296783917}\n",
    "\n",
    "\n",
    "\n",
    "# 训练并评估 RandomForest 模型\n",
    "train_evaluate_with_best_params(\"RandomForest\", RandomForestClassifier, best_params_rf, X, y)\n"
   ]
  },
  {
   "cell_type": "code",
   "execution_count": 5,
   "id": "bb55d016-0855-4dd5-b15e-b2abb43f9a2a",
   "metadata": {},
   "outputs": [
    {
     "name": "stderr",
     "output_type": "stream",
     "text": [
      "Training LightGBM:  20%|██        | 1/5 [00:00<00:01,  3.24it/s]"
     ]
    },
    {
     "name": "stdout",
     "output_type": "stream",
     "text": [
      "Fold 1 - Train metrics:\n",
      "  PR-AUC: 1.0000\n",
      "  AU-ROC: 1.0000\n",
      "  ACC: 1.0000\n",
      "  PREC: 1.0000\n",
      "  REC: 1.0000\n",
      "  F1: 1.0000\n",
      "Fold 1 - Test metrics:\n",
      "  PR-AUC: 0.9919\n",
      "  AU-ROC: 0.7627\n",
      "  ACC: 0.9648\n",
      "  PREC: 0.9716\n",
      "  REC: 0.9928\n",
      "  F1: 0.9821\n",
      "\n"
     ]
    },
    {
     "name": "stderr",
     "output_type": "stream",
     "text": [
      "Training LightGBM:  40%|████      | 2/5 [00:00<00:00,  3.40it/s]"
     ]
    },
    {
     "name": "stdout",
     "output_type": "stream",
     "text": [
      "Fold 2 - Train metrics:\n",
      "  PR-AUC: 1.0000\n",
      "  AU-ROC: 1.0000\n",
      "  ACC: 1.0000\n",
      "  PREC: 1.0000\n",
      "  REC: 1.0000\n",
      "  F1: 1.0000\n",
      "Fold 2 - Test metrics:\n",
      "  PR-AUC: 0.9939\n",
      "  AU-ROC: 0.8170\n",
      "  ACC: 0.9718\n",
      "  PREC: 0.9718\n",
      "  REC: 1.0000\n",
      "  F1: 0.9857\n",
      "\n"
     ]
    },
    {
     "name": "stderr",
     "output_type": "stream",
     "text": [
      "Training LightGBM:  60%|██████    | 3/5 [00:00<00:00,  3.52it/s]"
     ]
    },
    {
     "name": "stdout",
     "output_type": "stream",
     "text": [
      "Fold 3 - Train metrics:\n",
      "  PR-AUC: 1.0000\n",
      "  AU-ROC: 1.0000\n",
      "  ACC: 1.0000\n",
      "  PREC: 1.0000\n",
      "  REC: 1.0000\n",
      "  F1: 1.0000\n",
      "Fold 3 - Test metrics:\n",
      "  PR-AUC: 0.9902\n",
      "  AU-ROC: 0.7862\n",
      "  ACC: 0.9789\n",
      "  PREC: 0.9787\n",
      "  REC: 1.0000\n",
      "  F1: 0.9892\n",
      "\n"
     ]
    },
    {
     "name": "stderr",
     "output_type": "stream",
     "text": [
      "Training LightGBM:  80%|████████  | 4/5 [00:01<00:00,  3.49it/s]"
     ]
    },
    {
     "name": "stdout",
     "output_type": "stream",
     "text": [
      "Fold 4 - Train metrics:\n",
      "  PR-AUC: 1.0000\n",
      "  AU-ROC: 1.0000\n",
      "  ACC: 1.0000\n",
      "  PREC: 1.0000\n",
      "  REC: 1.0000\n",
      "  F1: 1.0000\n",
      "Fold 4 - Test metrics:\n",
      "  PR-AUC: 0.9943\n",
      "  AU-ROC: 0.8431\n",
      "  ACC: 0.9645\n",
      "  PREC: 0.9714\n",
      "  REC: 0.9927\n",
      "  F1: 0.9819\n",
      "\n"
     ]
    },
    {
     "name": "stderr",
     "output_type": "stream",
     "text": [
      "Training LightGBM: 100%|██████████| 5/5 [00:02<00:00,  2.42it/s]"
     ]
    },
    {
     "name": "stdout",
     "output_type": "stream",
     "text": [
      "Fold 5 - Train metrics:\n",
      "  PR-AUC: 1.0000\n",
      "  AU-ROC: 1.0000\n",
      "  ACC: 1.0000\n",
      "  PREC: 1.0000\n",
      "  REC: 1.0000\n",
      "  F1: 1.0000\n",
      "Fold 5 - Test metrics:\n",
      "  PR-AUC: 0.9938\n",
      "  AU-ROC: 0.8102\n",
      "  ACC: 0.9645\n",
      "  PREC: 0.9714\n",
      "  REC: 0.9927\n",
      "  F1: 0.9819\n",
      "\n",
      "Metrics saved to LightGBM_evaluation_metrics.csv\n",
      "Average Train PR AUC: 1.0000\n",
      "Average Test PR AUC: 0.9928\n",
      "Average Train AU-ROC: 1.0000\n",
      "Average Test AU-ROC: 0.8038\n",
      "Average Train Accuracy: 1.0000\n",
      "Average Test Accuracy: 0.9689\n",
      "Average Train Precision: 1.0000\n",
      "Average Test Precision: 0.9730\n",
      "Average Train Recall: 1.0000\n",
      "Average Test Recall: 0.9956\n",
      "Average Train F1: 1.0000\n",
      "Average Test F1: 0.9842\n"
     ]
    },
    {
     "name": "stderr",
     "output_type": "stream",
     "text": [
      "\n"
     ]
    }
   ],
   "source": [
    "\n",
    "\n",
    "\n",
    "from lightgbm import LGBMClassifier\n",
    "\n",
    "# 最优参数（LightGBM）\n",
    "best_params_lgbm = {'n_estimators': 529, 'max_depth': 32, 'num_leaves': 1337, 'learning_rate': 0.16178297903549685,'verbose': -1 }\n",
    "\n",
    "# 训练并评估 LightGBM 模型\n",
    "train_evaluate_with_best_params(\"LightGBM\", LGBMClassifier, best_params_lgbm, X, y)\n"
   ]
  },
  {
   "cell_type": "code",
   "execution_count": 6,
   "id": "28100f78-259f-48ae-9d54-29d59770740f",
   "metadata": {},
   "outputs": [
    {
     "name": "stderr",
     "output_type": "stream",
     "text": [
      "Training SVM:  20%|██        | 1/5 [00:00<00:02,  1.48it/s]"
     ]
    },
    {
     "name": "stdout",
     "output_type": "stream",
     "text": [
      "Fold 1 - Train metrics:\n",
      "  PR-AUC: 1.0000\n",
      "  AU-ROC: 1.0000\n",
      "  ACC: 0.9717\n",
      "  PREC: 0.9717\n",
      "  REC: 1.0000\n",
      "  F1: 0.9857\n",
      "Fold 1 - Test metrics:\n",
      "  PR-AUC: 0.9945\n",
      "  AU-ROC: 0.8261\n",
      "  ACC: 0.9718\n",
      "  PREC: 0.9718\n",
      "  REC: 1.0000\n",
      "  F1: 0.9857\n",
      "\n"
     ]
    },
    {
     "name": "stderr",
     "output_type": "stream",
     "text": [
      "Training SVM:  40%|████      | 2/5 [00:01<00:01,  1.81it/s]"
     ]
    },
    {
     "name": "stdout",
     "output_type": "stream",
     "text": [
      "Fold 2 - Train metrics:\n",
      "  PR-AUC: 1.0000\n",
      "  AU-ROC: 1.0000\n",
      "  ACC: 0.9717\n",
      "  PREC: 0.9717\n",
      "  REC: 1.0000\n",
      "  F1: 0.9857\n",
      "Fold 2 - Test metrics:\n",
      "  PR-AUC: 0.9714\n",
      "  AU-ROC: 0.6612\n",
      "  ACC: 0.9648\n",
      "  PREC: 0.9716\n",
      "  REC: 0.9928\n",
      "  F1: 0.9821\n",
      "\n"
     ]
    },
    {
     "name": "stderr",
     "output_type": "stream",
     "text": [
      "Training SVM:  60%|██████    | 3/5 [00:01<00:01,  1.50it/s]"
     ]
    },
    {
     "name": "stdout",
     "output_type": "stream",
     "text": [
      "Fold 3 - Train metrics:\n",
      "  PR-AUC: 0.9996\n",
      "  AU-ROC: 0.9889\n",
      "  ACC: 0.9717\n",
      "  PREC: 0.9717\n",
      "  REC: 1.0000\n",
      "  F1: 0.9857\n",
      "Fold 3 - Test metrics:\n",
      "  PR-AUC: 0.9966\n",
      "  AU-ROC: 0.9004\n",
      "  ACC: 0.9718\n",
      "  PREC: 0.9718\n",
      "  REC: 1.0000\n",
      "  F1: 0.9857\n",
      "\n"
     ]
    },
    {
     "name": "stderr",
     "output_type": "stream",
     "text": [
      "Training SVM:  80%|████████  | 4/5 [00:03<00:00,  1.08it/s]"
     ]
    },
    {
     "name": "stdout",
     "output_type": "stream",
     "text": [
      "Fold 4 - Train metrics:\n",
      "  PR-AUC: 1.0000\n",
      "  AU-ROC: 1.0000\n",
      "  ACC: 0.9718\n",
      "  PREC: 0.9718\n",
      "  REC: 1.0000\n",
      "  F1: 0.9857\n",
      "Fold 4 - Test metrics:\n",
      "  PR-AUC: 0.9984\n",
      "  AU-ROC: 0.9489\n",
      "  ACC: 0.9716\n",
      "  PREC: 0.9716\n",
      "  REC: 1.0000\n",
      "  F1: 0.9856\n",
      "\n"
     ]
    },
    {
     "name": "stderr",
     "output_type": "stream",
     "text": [
      "Training SVM: 100%|██████████| 5/5 [00:04<00:00,  1.20it/s]"
     ]
    },
    {
     "name": "stdout",
     "output_type": "stream",
     "text": [
      "Fold 5 - Train metrics:\n",
      "  PR-AUC: 1.0000\n",
      "  AU-ROC: 1.0000\n",
      "  ACC: 0.9735\n",
      "  PREC: 0.9735\n",
      "  REC: 1.0000\n",
      "  F1: 0.9866\n",
      "Fold 5 - Test metrics:\n",
      "  PR-AUC: 0.9931\n",
      "  AU-ROC: 0.7974\n",
      "  ACC: 0.9645\n",
      "  PREC: 0.9714\n",
      "  REC: 0.9927\n",
      "  F1: 0.9819\n",
      "\n",
      "Metrics saved to SVM_evaluation_metrics.csv\n",
      "Average Train PR AUC: 0.9999\n",
      "Average Test PR AUC: 0.9908\n",
      "Average Train AU-ROC: 0.9978\n",
      "Average Test AU-ROC: 0.8268\n",
      "Average Train Accuracy: 0.9721\n",
      "Average Test Accuracy: 0.9689\n",
      "Average Train Precision: 0.9721\n",
      "Average Test Precision: 0.9717\n",
      "Average Train Recall: 1.0000\n",
      "Average Test Recall: 0.9971\n",
      "Average Train F1: 0.9858\n",
      "Average Test F1: 0.9842\n"
     ]
    },
    {
     "name": "stderr",
     "output_type": "stream",
     "text": [
      "\n"
     ]
    }
   ],
   "source": [
    "from sklearn.svm import SVC\n",
    "\n",
    "# 最优参数（SVM）启用概率估计\n",
    "best_params_svm = {'C': 0.977399931193936, 'gamma': 0.010961352543547414, 'kernel': 'linear','probability': True}\n",
    "\n",
    "# 训练并评估 SVM 模型\n",
    "train_evaluate_with_best_params(\"SVM\", SVC, best_params_svm, X, y)\n",
    "\n"
   ]
  },
  {
   "cell_type": "code",
   "execution_count": 7,
   "id": "2928109b-f02e-4873-afbb-709350672b02",
   "metadata": {},
   "outputs": [
    {
     "name": "stderr",
     "output_type": "stream",
     "text": [
      "Training KNN:  20%|██        | 1/5 [00:00<00:01,  3.67it/s]"
     ]
    },
    {
     "name": "stdout",
     "output_type": "stream",
     "text": [
      "Fold 1 - Train metrics:\n",
      "  PR-AUC: 1.0000\n",
      "  AU-ROC: 1.0000\n",
      "  ACC: 1.0000\n",
      "  PREC: 1.0000\n",
      "  REC: 1.0000\n",
      "  F1: 1.0000\n",
      "Fold 1 - Test metrics:\n",
      "  PR-AUC: 0.9903\n",
      "  AU-ROC: 0.6938\n",
      "  ACC: 0.9718\n",
      "  PREC: 0.9718\n",
      "  REC: 1.0000\n",
      "  F1: 0.9857\n",
      "\n"
     ]
    },
    {
     "name": "stderr",
     "output_type": "stream",
     "text": [
      "Training KNN: 100%|██████████| 5/5 [00:00<00:00,  7.12it/s]"
     ]
    },
    {
     "name": "stdout",
     "output_type": "stream",
     "text": [
      "Fold 2 - Train metrics:\n",
      "  PR-AUC: 1.0000\n",
      "  AU-ROC: 1.0000\n",
      "  ACC: 1.0000\n",
      "  PREC: 1.0000\n",
      "  REC: 1.0000\n",
      "  F1: 1.0000\n",
      "Fold 2 - Test metrics:\n",
      "  PR-AUC: 0.9865\n",
      "  AU-ROC: 0.5697\n",
      "  ACC: 0.9718\n",
      "  PREC: 0.9718\n",
      "  REC: 1.0000\n",
      "  F1: 0.9857\n",
      "\n",
      "Fold 3 - Train metrics:\n",
      "  PR-AUC: 1.0000\n",
      "  AU-ROC: 1.0000\n",
      "  ACC: 1.0000\n",
      "  PREC: 1.0000\n",
      "  REC: 1.0000\n",
      "  F1: 1.0000\n",
      "Fold 3 - Test metrics:\n",
      "  PR-AUC: 0.9903\n",
      "  AU-ROC: 0.6920\n",
      "  ACC: 0.9718\n",
      "  PREC: 0.9718\n",
      "  REC: 1.0000\n",
      "  F1: 0.9857\n",
      "\n",
      "Fold 4 - Train metrics:\n",
      "  PR-AUC: 1.0000\n",
      "  AU-ROC: 1.0000\n",
      "  ACC: 1.0000\n",
      "  PREC: 1.0000\n",
      "  REC: 1.0000\n",
      "  F1: 1.0000\n",
      "Fold 4 - Test metrics:\n",
      "  PR-AUC: 0.9903\n",
      "  AU-ROC: 0.6898\n",
      "  ACC: 0.9645\n",
      "  PREC: 0.9714\n",
      "  REC: 0.9927\n",
      "  F1: 0.9819\n",
      "\n",
      "Fold 5 - Train metrics:\n",
      "  PR-AUC: 1.0000\n",
      "  AU-ROC: 1.0000\n",
      "  ACC: 1.0000\n",
      "  PREC: 1.0000\n",
      "  REC: 1.0000\n",
      "  F1: 1.0000\n",
      "Fold 5 - Test metrics:\n",
      "  PR-AUC: 0.9863\n",
      "  AU-ROC: 0.5739\n",
      "  ACC: 0.9716\n",
      "  PREC: 0.9716\n",
      "  REC: 1.0000\n",
      "  F1: 0.9856\n",
      "\n",
      "Metrics saved to KNN_evaluation_metrics.csv\n",
      "Average Train PR AUC: 1.0000\n",
      "Average Test PR AUC: 0.9887\n",
      "Average Train AU-ROC: 1.0000\n",
      "Average Test AU-ROC: 0.6439\n",
      "Average Train Accuracy: 1.0000\n",
      "Average Test Accuracy: 0.9703\n",
      "Average Train Precision: 1.0000\n",
      "Average Test Precision: 0.9717\n",
      "Average Train Recall: 1.0000\n",
      "Average Test Recall: 0.9985\n",
      "Average Train F1: 1.0000\n",
      "Average Test F1: 0.9849\n"
     ]
    },
    {
     "name": "stderr",
     "output_type": "stream",
     "text": [
      "\n"
     ]
    }
   ],
   "source": [
    "from sklearn.neighbors import KNeighborsClassifier\n",
    "\n",
    "# 最优参数（KNN）\n",
    "best_params_knn = {'n_neighbors': 5, 'weights': 'distance', 'metric': 'euclidean'}\n",
    "\n",
    "# 训练并评估 KNN 模型\n",
    "train_evaluate_with_best_params(\"KNN\", KNeighborsClassifier, best_params_knn, X, y)\n"
   ]
  },
  {
   "cell_type": "code",
   "execution_count": null,
   "id": "3d99cdfc-8f61-48bd-9a3c-43cf08023c0c",
   "metadata": {},
   "outputs": [],
   "source": []
  }
 ],
 "metadata": {
  "kernelspec": {
   "display_name": "Python 3 (ipykernel)",
   "language": "python",
   "name": "python3"
  },
  "language_info": {
   "codemirror_mode": {
    "name": "ipython",
    "version": 3
   },
   "file_extension": ".py",
   "mimetype": "text/x-python",
   "name": "python",
   "nbconvert_exporter": "python",
   "pygments_lexer": "ipython3",
   "version": "3.12.2"
  }
 },
 "nbformat": 4,
 "nbformat_minor": 5
}
