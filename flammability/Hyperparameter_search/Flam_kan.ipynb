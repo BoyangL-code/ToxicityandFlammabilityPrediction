{
 "cells": [
  {
   "cell_type": "code",
   "execution_count": 1,
   "id": "238f7552-e2b3-4278-93be-2bd6eefcfa8e",
   "metadata": {},
   "outputs": [],
   "source": [
    "import warnings\n",
    "from rdkit import RDLogger\n",
    "\n",
    "# 屏蔽 RDKit 警告\n",
    "RDLogger.DisableLog('rdApp.*')\n",
    "\n",
    "# 或屏蔽所有 Python 警告\n",
    "warnings.filterwarnings(\"ignore\")\n"
   ]
  },
  {
   "cell_type": "code",
   "execution_count": null,
   "id": "f3928454-d2d1-4490-bdec-fd2ed8323998",
   "metadata": {},
   "outputs": [],
   "source": []
  },
  {
   "cell_type": "code",
   "execution_count": null,
   "id": "aa24825c-72aa-4888-941d-002b55d64058",
   "metadata": {},
   "outputs": [],
   "source": []
  },
  {
   "cell_type": "code",
   "execution_count": null,
   "id": "6d1139be-20af-4099-aea4-ee2096c53a73",
   "metadata": {},
   "outputs": [],
   "source": []
  },
  {
   "cell_type": "code",
   "execution_count": 2,
   "id": "414f5d26-81a7-4ced-b001-290f3e35fbd2",
   "metadata": {},
   "outputs": [],
   "source": [
    "import pandas as pd\n",
    "import numpy as np\n",
    "from rdkit import Chem\n",
    "from rdkit.Chem import AllChem, Descriptors\n",
    "import torch\n",
    "from torch.utils.data import DataLoader, TensorDataset\n",
    "from sklearn.model_selection import KFold\n",
    "from sklearn.metrics import precision_recall_curve, auc, f1_score, recall_score, precision_score, matthews_corrcoef, accuracy_score\n",
    "from kan import KAN  # Assuming the KAN model is defined in a module called kan\n",
    "from tqdm import tqdm  # Import tqdm for progress bars\n",
    "from sklearn.metrics import roc_curve\n",
    "\n",
    "\n",
    "\n",
    "\n",
    "# 数据预处理\n",
    "df = pd.read_csv('selected_features_Flam.csv')\n",
    "labels = df['Flammability'].values\n",
    "smiles_list = df['SMILES'].tolist()\n",
    "\n",
    "# 函数：将SMILES转换为分子描述符和指纹\n",
    "def smiles_to_features(smiles):\n",
    "    mol = Chem.MolFromSmiles(smiles)\n",
    "    if mol is None:\n",
    "        return None\n",
    "    # 提取描述符\n",
    "    descriptors = [\n",
    "        Descriptors.MolWt(mol),  # 分子量\n",
    "        Descriptors.MolLogP(mol),  # LogP\n",
    "        Descriptors.NumHDonors(mol),  # 氢键供体数量\n",
    "        Descriptors.NumHAcceptors(mol)  # 氢键受体数量\n",
    "    ]\n",
    "    # 生成Morgan指纹\n",
    "    fingerprint = AllChem.GetMorganFingerprintAsBitVect(mol, 2, nBits=2048)\n",
    "    fingerprint_array = np.zeros((2048,))\n",
    "    Chem.DataStructs.ConvertToNumpyArray(fingerprint, fingerprint_array)\n",
    "    # 合并描述符和指纹\n",
    "    features = np.concatenate([descriptors, fingerprint_array])\n",
    "    return features\n",
    "\n",
    "# 将SMILES转换为特征\n",
    "features = []\n",
    "for smiles in smiles_list:\n",
    "    feature = smiles_to_features(smiles)\n",
    "    if feature is not None:\n",
    "        features.append(feature)\n",
    "\n",
    "# 转换为numpy数组\n",
    "features = np.array(features)\n",
    "X = np.array(features)\n",
    "y = labels\n",
    "\n",
    "# 设置设备为 CUDA 或 CPU\n",
    "device = torch.device('cuda' if torch.cuda.is_available() else 'cpu')\n",
    "\n",
    "# 将数据转换为 PyTorch 张量\n",
    "X_tensor = torch.tensor(X, dtype=torch.float32).to(device)\n",
    "y_tensor = torch.tensor(y, dtype=torch.float32).to(device)\n",
    "\n",
    "# 创建DataLoader函数\n",
    "def get_dataloader(X, y, batch_size):\n",
    "    dataset = TensorDataset(X, y)\n",
    "    dataloader = DataLoader(dataset, batch_size=batch_size, shuffle=True)\n",
    "    return dataloader\n",
    "\n",
    "# 训练 KAN 模型\n",
    "def train_kan(model, train_dataloader, optimizer, criterion, steps=20, patience=1):\n",
    "    model.train()\n",
    "    best_val_auc = -np.inf  # 最佳验证集AUC\n",
    "    epochs_without_improvement = 0  # 连续多少个epoch验证集性能没有提升\n",
    "    for epoch in range(steps):\n",
    "        running_loss = 0.0\n",
    "        for X_batch, y_batch in tqdm(train_dataloader, desc=f\"Epoch {epoch+1}/{steps}\", leave=False):\n",
    "            optimizer.zero_grad()\n",
    "            outputs = model(X_batch)\n",
    "            loss = criterion(outputs.squeeze(), y_batch)\n",
    "            loss.backward()\n",
    "            optimizer.step()\n",
    "            running_loss += loss.item()\n",
    "\n",
    "        print(f\"Epoch [{epoch+1}/{steps}], Loss: {running_loss/len(train_dataloader):.4f}\")\n",
    "        \n",
    "        # 每个epoch结束后，进行验证集评估\n",
    "        val_auc = evaluate_kan(model, val_dataloader)  # AUC评估\n",
    "        if val_auc > best_val_auc:\n",
    "            best_val_auc = val_auc\n",
    "            epochs_without_improvement = 0\n",
    "        else:\n",
    "            epochs_without_improvement += 1\n",
    "            if epochs_without_improvement >= patience:\n",
    "                print(f\"Early stopping at epoch {epoch+1}\")\n",
    "                break\n",
    "\n",
    "# 评估模型\n",
    "def evaluate_kan(model, val_dataloader):\n",
    "    model.eval()\n",
    "    val_auc_scores = []\n",
    "    with torch.no_grad():\n",
    "        for X_batch, y_batch in val_dataloader:\n",
    "            outputs = model(X_batch)\n",
    "            probs = torch.sigmoid(outputs).squeeze().cpu().numpy()\n",
    "            y_batch_cpu = y_batch.cpu().numpy()\n",
    "            precision, recall, _ = precision_recall_curve(y_batch_cpu, probs)\n",
    "            pr_auc = auc(recall, precision)\n",
    "            val_auc_scores.append(pr_auc)\n",
    "    return np.mean(val_auc_scores)\n"
   ]
  },
  {
   "cell_type": "code",
   "execution_count": 3,
   "id": "6f645c65-957c-4027-978a-d03444f747c7",
   "metadata": {},
   "outputs": [
    {
     "name": "stdout",
     "output_type": "stream",
     "text": [
      "\n",
      "Fold 1\n",
      "checkpoint directory created: ./model\n",
      "saving model version 0.0\n"
     ]
    },
    {
     "name": "stderr",
     "output_type": "stream",
     "text": [
      "                                                          \r"
     ]
    },
    {
     "name": "stdout",
     "output_type": "stream",
     "text": [
      "Epoch [1/20], Loss: 0.5172\n"
     ]
    },
    {
     "name": "stderr",
     "output_type": "stream",
     "text": [
      "                                                          \r"
     ]
    },
    {
     "name": "stdout",
     "output_type": "stream",
     "text": [
      "Epoch [2/20], Loss: 0.1651\n"
     ]
    },
    {
     "name": "stderr",
     "output_type": "stream",
     "text": [
      "                                                          \r"
     ]
    },
    {
     "name": "stdout",
     "output_type": "stream",
     "text": [
      "Epoch [3/20], Loss: 0.1943\n"
     ]
    },
    {
     "name": "stderr",
     "output_type": "stream",
     "text": [
      "                                                          \r"
     ]
    },
    {
     "name": "stdout",
     "output_type": "stream",
     "text": [
      "Epoch [4/20], Loss: 0.2363\n"
     ]
    },
    {
     "name": "stderr",
     "output_type": "stream",
     "text": [
      "                                                          \r"
     ]
    },
    {
     "name": "stdout",
     "output_type": "stream",
     "text": [
      "Epoch [5/20], Loss: 0.1850\n"
     ]
    },
    {
     "name": "stderr",
     "output_type": "stream",
     "text": [
      "                                                          \r"
     ]
    },
    {
     "name": "stdout",
     "output_type": "stream",
     "text": [
      "Epoch [6/20], Loss: 0.1937\n"
     ]
    },
    {
     "name": "stderr",
     "output_type": "stream",
     "text": [
      "                                                          \r"
     ]
    },
    {
     "name": "stdout",
     "output_type": "stream",
     "text": [
      "Epoch [7/20], Loss: 0.1636\n"
     ]
    },
    {
     "name": "stderr",
     "output_type": "stream",
     "text": [
      "                                                          \r"
     ]
    },
    {
     "name": "stdout",
     "output_type": "stream",
     "text": [
      "Epoch [8/20], Loss: 0.1659\n"
     ]
    },
    {
     "name": "stderr",
     "output_type": "stream",
     "text": [
      "                                                          \r"
     ]
    },
    {
     "name": "stdout",
     "output_type": "stream",
     "text": [
      "Epoch [9/20], Loss: 0.1462\n"
     ]
    },
    {
     "name": "stderr",
     "output_type": "stream",
     "text": [
      "                                                           \r"
     ]
    },
    {
     "name": "stdout",
     "output_type": "stream",
     "text": [
      "Epoch [10/20], Loss: 0.1400\n"
     ]
    },
    {
     "name": "stderr",
     "output_type": "stream",
     "text": [
      "                                                           \r"
     ]
    },
    {
     "name": "stdout",
     "output_type": "stream",
     "text": [
      "Epoch [11/20], Loss: 0.1239\n"
     ]
    },
    {
     "name": "stderr",
     "output_type": "stream",
     "text": [
      "                                                           \r"
     ]
    },
    {
     "name": "stdout",
     "output_type": "stream",
     "text": [
      "Epoch [12/20], Loss: 0.1244\n"
     ]
    },
    {
     "name": "stderr",
     "output_type": "stream",
     "text": [
      "                                                           \r"
     ]
    },
    {
     "name": "stdout",
     "output_type": "stream",
     "text": [
      "Epoch [13/20], Loss: 0.1158\n"
     ]
    },
    {
     "name": "stderr",
     "output_type": "stream",
     "text": [
      "                                                           \r"
     ]
    },
    {
     "name": "stdout",
     "output_type": "stream",
     "text": [
      "Epoch [14/20], Loss: 0.1058\n"
     ]
    },
    {
     "name": "stderr",
     "output_type": "stream",
     "text": [
      "                                                           \r"
     ]
    },
    {
     "name": "stdout",
     "output_type": "stream",
     "text": [
      "Epoch [15/20], Loss: 0.1012\n",
      "Early stopping at epoch 15\n",
      "\n",
      "Fold 2\n",
      "checkpoint directory created: ./model\n",
      "saving model version 0.0\n"
     ]
    },
    {
     "name": "stderr",
     "output_type": "stream",
     "text": [
      "                                                          \r"
     ]
    },
    {
     "name": "stdout",
     "output_type": "stream",
     "text": [
      "Epoch [1/20], Loss: 0.4843\n"
     ]
    },
    {
     "name": "stderr",
     "output_type": "stream",
     "text": [
      "                                                          \r"
     ]
    },
    {
     "name": "stdout",
     "output_type": "stream",
     "text": [
      "Epoch [2/20], Loss: 0.1803\n"
     ]
    },
    {
     "name": "stderr",
     "output_type": "stream",
     "text": [
      "                                                          \r"
     ]
    },
    {
     "name": "stdout",
     "output_type": "stream",
     "text": [
      "Epoch [3/20], Loss: 0.1822\n"
     ]
    },
    {
     "name": "stderr",
     "output_type": "stream",
     "text": [
      "                                                          \r"
     ]
    },
    {
     "name": "stdout",
     "output_type": "stream",
     "text": [
      "Epoch [4/20], Loss: 0.1658\n"
     ]
    },
    {
     "name": "stderr",
     "output_type": "stream",
     "text": [
      "                                                          \r"
     ]
    },
    {
     "name": "stdout",
     "output_type": "stream",
     "text": [
      "Epoch [5/20], Loss: 0.1748\n"
     ]
    },
    {
     "name": "stderr",
     "output_type": "stream",
     "text": [
      "                                                          \r"
     ]
    },
    {
     "name": "stdout",
     "output_type": "stream",
     "text": [
      "Epoch [6/20], Loss: 0.1647\n"
     ]
    },
    {
     "name": "stderr",
     "output_type": "stream",
     "text": [
      "                                                          \r"
     ]
    },
    {
     "name": "stdout",
     "output_type": "stream",
     "text": [
      "Epoch [7/20], Loss: 0.1759\n"
     ]
    },
    {
     "name": "stderr",
     "output_type": "stream",
     "text": [
      "                                                          \r"
     ]
    },
    {
     "name": "stdout",
     "output_type": "stream",
     "text": [
      "Epoch [8/20], Loss: 0.1643\n"
     ]
    },
    {
     "name": "stderr",
     "output_type": "stream",
     "text": [
      "                                                          \r"
     ]
    },
    {
     "name": "stdout",
     "output_type": "stream",
     "text": [
      "Epoch [9/20], Loss: 0.1442\n"
     ]
    },
    {
     "name": "stderr",
     "output_type": "stream",
     "text": [
      "                                                           \r"
     ]
    },
    {
     "name": "stdout",
     "output_type": "stream",
     "text": [
      "Epoch [10/20], Loss: 0.1423\n"
     ]
    },
    {
     "name": "stderr",
     "output_type": "stream",
     "text": [
      "                                                           \r"
     ]
    },
    {
     "name": "stdout",
     "output_type": "stream",
     "text": [
      "Epoch [11/20], Loss: 0.1255\n"
     ]
    },
    {
     "name": "stderr",
     "output_type": "stream",
     "text": [
      "                                                           \r"
     ]
    },
    {
     "name": "stdout",
     "output_type": "stream",
     "text": [
      "Epoch [12/20], Loss: 0.1081\n"
     ]
    },
    {
     "name": "stderr",
     "output_type": "stream",
     "text": [
      "                                                           \r"
     ]
    },
    {
     "name": "stdout",
     "output_type": "stream",
     "text": [
      "Epoch [13/20], Loss: 0.1060\n"
     ]
    },
    {
     "name": "stderr",
     "output_type": "stream",
     "text": [
      "                                                           \r"
     ]
    },
    {
     "name": "stdout",
     "output_type": "stream",
     "text": [
      "Epoch [14/20], Loss: 0.1055\n"
     ]
    },
    {
     "name": "stderr",
     "output_type": "stream",
     "text": [
      "                                                           \r"
     ]
    },
    {
     "name": "stdout",
     "output_type": "stream",
     "text": [
      "Epoch [15/20], Loss: 0.0964\n"
     ]
    },
    {
     "name": "stderr",
     "output_type": "stream",
     "text": [
      "                                                           \r"
     ]
    },
    {
     "name": "stdout",
     "output_type": "stream",
     "text": [
      "Epoch [16/20], Loss: 0.0987\n"
     ]
    },
    {
     "name": "stderr",
     "output_type": "stream",
     "text": [
      "                                                           \r"
     ]
    },
    {
     "name": "stdout",
     "output_type": "stream",
     "text": [
      "Epoch [17/20], Loss: 0.0900\n"
     ]
    },
    {
     "name": "stderr",
     "output_type": "stream",
     "text": [
      "Epoch 18/20:  80%|████████  | 4/5 [09:38<02:25, 145.81s/it]"
     ]
    },
    {
     "name": "stdout",
     "output_type": "stream",
     "text": [
      "Early stopping at epoch 18\n",
      "\n",
      "Fold 3\n",
      "checkpoint directory created: ./model\n",
      "saving model version 0.0\n"
     ]
    },
    {
     "name": "stderr",
     "output_type": "stream",
     "text": [
      "                                                          \r"
     ]
    },
    {
     "name": "stdout",
     "output_type": "stream",
     "text": [
      "Epoch [1/20], Loss: 0.5178\n"
     ]
    },
    {
     "name": "stderr",
     "output_type": "stream",
     "text": [
      "                                                          \r"
     ]
    },
    {
     "name": "stdout",
     "output_type": "stream",
     "text": [
      "Epoch [2/20], Loss: 0.1593\n"
     ]
    },
    {
     "name": "stderr",
     "output_type": "stream",
     "text": [
      "                                                          \r"
     ]
    },
    {
     "name": "stdout",
     "output_type": "stream",
     "text": [
      "Epoch [3/20], Loss: 0.1498\n"
     ]
    },
    {
     "name": "stderr",
     "output_type": "stream",
     "text": [
      "                                                          \r"
     ]
    },
    {
     "name": "stdout",
     "output_type": "stream",
     "text": [
      "Epoch [4/20], Loss: 0.1394\n"
     ]
    },
    {
     "name": "stderr",
     "output_type": "stream",
     "text": [
      "                                                          \r"
     ]
    },
    {
     "name": "stdout",
     "output_type": "stream",
     "text": [
      "Epoch [5/20], Loss: 0.1392\n"
     ]
    },
    {
     "name": "stderr",
     "output_type": "stream",
     "text": [
      "                                                          \r"
     ]
    },
    {
     "name": "stdout",
     "output_type": "stream",
     "text": [
      "Epoch [6/20], Loss: 0.1629\n"
     ]
    },
    {
     "name": "stderr",
     "output_type": "stream",
     "text": [
      "                                                          \r"
     ]
    },
    {
     "name": "stdout",
     "output_type": "stream",
     "text": [
      "Epoch [7/20], Loss: 0.1464\n"
     ]
    },
    {
     "name": "stderr",
     "output_type": "stream",
     "text": [
      "                                                          \r"
     ]
    },
    {
     "name": "stdout",
     "output_type": "stream",
     "text": [
      "Epoch [8/20], Loss: 0.1357\n"
     ]
    },
    {
     "name": "stderr",
     "output_type": "stream",
     "text": [
      "                                                          \r"
     ]
    },
    {
     "name": "stdout",
     "output_type": "stream",
     "text": [
      "Epoch [9/20], Loss: 0.1338\n"
     ]
    },
    {
     "name": "stderr",
     "output_type": "stream",
     "text": [
      "                                                           \r"
     ]
    },
    {
     "name": "stdout",
     "output_type": "stream",
     "text": [
      "Epoch [10/20], Loss: 0.1179\n",
      "Early stopping at epoch 10\n",
      "\n",
      "Fold 4\n",
      "checkpoint directory created: ./model\n",
      "saving model version 0.0\n"
     ]
    },
    {
     "name": "stderr",
     "output_type": "stream",
     "text": [
      "                                                          \r"
     ]
    },
    {
     "name": "stdout",
     "output_type": "stream",
     "text": [
      "Epoch [1/20], Loss: 0.5307\n"
     ]
    },
    {
     "name": "stderr",
     "output_type": "stream",
     "text": [
      "                                                          \r"
     ]
    },
    {
     "name": "stdout",
     "output_type": "stream",
     "text": [
      "Epoch [2/20], Loss: 0.1700\n"
     ]
    },
    {
     "name": "stderr",
     "output_type": "stream",
     "text": [
      "                                                          \r"
     ]
    },
    {
     "name": "stdout",
     "output_type": "stream",
     "text": [
      "Epoch [3/20], Loss: 0.1865\n"
     ]
    },
    {
     "name": "stderr",
     "output_type": "stream",
     "text": [
      "                                                          \r"
     ]
    },
    {
     "name": "stdout",
     "output_type": "stream",
     "text": [
      "Epoch [4/20], Loss: 0.1762\n"
     ]
    },
    {
     "name": "stderr",
     "output_type": "stream",
     "text": [
      "                                                          \r"
     ]
    },
    {
     "name": "stdout",
     "output_type": "stream",
     "text": [
      "Epoch [5/20], Loss: 0.1812\n"
     ]
    },
    {
     "name": "stderr",
     "output_type": "stream",
     "text": [
      "                                                          \r"
     ]
    },
    {
     "name": "stdout",
     "output_type": "stream",
     "text": [
      "Epoch [6/20], Loss: 0.1788\n"
     ]
    },
    {
     "name": "stderr",
     "output_type": "stream",
     "text": [
      "                                                          \r"
     ]
    },
    {
     "name": "stdout",
     "output_type": "stream",
     "text": [
      "Epoch [7/20], Loss: 0.1656\n"
     ]
    },
    {
     "name": "stderr",
     "output_type": "stream",
     "text": [
      "                                                          \r"
     ]
    },
    {
     "name": "stdout",
     "output_type": "stream",
     "text": [
      "Epoch [8/20], Loss: 0.1756\n"
     ]
    },
    {
     "name": "stderr",
     "output_type": "stream",
     "text": [
      "                                                          \r"
     ]
    },
    {
     "name": "stdout",
     "output_type": "stream",
     "text": [
      "Epoch [9/20], Loss: 0.1595\n"
     ]
    },
    {
     "name": "stderr",
     "output_type": "stream",
     "text": [
      "                                                           \r"
     ]
    },
    {
     "name": "stdout",
     "output_type": "stream",
     "text": [
      "Epoch [10/20], Loss: 0.1498\n"
     ]
    },
    {
     "name": "stderr",
     "output_type": "stream",
     "text": [
      "                                                           \r"
     ]
    },
    {
     "name": "stdout",
     "output_type": "stream",
     "text": [
      "Epoch [11/20], Loss: 0.1290\n"
     ]
    },
    {
     "name": "stderr",
     "output_type": "stream",
     "text": [
      "                                                           \r"
     ]
    },
    {
     "name": "stdout",
     "output_type": "stream",
     "text": [
      "Epoch [12/20], Loss: 0.1260\n"
     ]
    },
    {
     "name": "stderr",
     "output_type": "stream",
     "text": [
      "                                                           \r"
     ]
    },
    {
     "name": "stdout",
     "output_type": "stream",
     "text": [
      "Epoch [13/20], Loss: 0.1180\n"
     ]
    },
    {
     "name": "stderr",
     "output_type": "stream",
     "text": [
      "                                                           \r"
     ]
    },
    {
     "name": "stdout",
     "output_type": "stream",
     "text": [
      "Epoch [14/20], Loss: 0.1049\n"
     ]
    },
    {
     "name": "stderr",
     "output_type": "stream",
     "text": [
      "                                                           \r"
     ]
    },
    {
     "name": "stdout",
     "output_type": "stream",
     "text": [
      "Epoch [15/20], Loss: 0.1140\n"
     ]
    },
    {
     "name": "stderr",
     "output_type": "stream",
     "text": [
      "                                                           \r"
     ]
    },
    {
     "name": "stdout",
     "output_type": "stream",
     "text": [
      "Epoch [16/20], Loss: 0.1057\n"
     ]
    },
    {
     "name": "stderr",
     "output_type": "stream",
     "text": [
      "                                                           \r"
     ]
    },
    {
     "name": "stdout",
     "output_type": "stream",
     "text": [
      "Epoch [17/20], Loss: 0.1110\n"
     ]
    },
    {
     "name": "stderr",
     "output_type": "stream",
     "text": [
      "                                                           \r"
     ]
    },
    {
     "name": "stdout",
     "output_type": "stream",
     "text": [
      "Epoch [18/20], Loss: 0.1167\n"
     ]
    },
    {
     "name": "stderr",
     "output_type": "stream",
     "text": [
      "                                                           \r"
     ]
    },
    {
     "name": "stdout",
     "output_type": "stream",
     "text": [
      "Epoch [19/20], Loss: 0.0934\n"
     ]
    },
    {
     "name": "stderr",
     "output_type": "stream",
     "text": [
      "                                                           \r"
     ]
    },
    {
     "name": "stdout",
     "output_type": "stream",
     "text": [
      "Epoch [20/20], Loss: 0.0939\n",
      "Early stopping at epoch 20\n",
      "\n",
      "Fold 5\n",
      "checkpoint directory created: ./model\n",
      "saving model version 0.0\n"
     ]
    },
    {
     "name": "stderr",
     "output_type": "stream",
     "text": [
      "                                                          \r"
     ]
    },
    {
     "name": "stdout",
     "output_type": "stream",
     "text": [
      "Epoch [1/20], Loss: 0.4982\n"
     ]
    },
    {
     "name": "stderr",
     "output_type": "stream",
     "text": [
      "                                                          \r"
     ]
    },
    {
     "name": "stdout",
     "output_type": "stream",
     "text": [
      "Epoch [2/20], Loss: 0.1568\n"
     ]
    },
    {
     "name": "stderr",
     "output_type": "stream",
     "text": [
      "                                                          \r"
     ]
    },
    {
     "name": "stdout",
     "output_type": "stream",
     "text": [
      "Epoch [3/20], Loss: 0.1889\n"
     ]
    },
    {
     "name": "stderr",
     "output_type": "stream",
     "text": [
      "                                                          \r"
     ]
    },
    {
     "name": "stdout",
     "output_type": "stream",
     "text": [
      "Epoch [4/20], Loss: 0.1801\n"
     ]
    },
    {
     "name": "stderr",
     "output_type": "stream",
     "text": [
      "                                                          \r"
     ]
    },
    {
     "name": "stdout",
     "output_type": "stream",
     "text": [
      "Epoch [5/20], Loss: 0.1685\n"
     ]
    },
    {
     "name": "stderr",
     "output_type": "stream",
     "text": [
      "                                                          \r"
     ]
    },
    {
     "name": "stdout",
     "output_type": "stream",
     "text": [
      "Epoch [6/20], Loss: 0.2347\n"
     ]
    },
    {
     "name": "stderr",
     "output_type": "stream",
     "text": [
      "                                                          \r"
     ]
    },
    {
     "name": "stdout",
     "output_type": "stream",
     "text": [
      "Epoch [7/20], Loss: 0.1708\n"
     ]
    },
    {
     "name": "stderr",
     "output_type": "stream",
     "text": [
      "                                                          \r"
     ]
    },
    {
     "name": "stdout",
     "output_type": "stream",
     "text": [
      "Epoch [8/20], Loss: 0.1493\n"
     ]
    },
    {
     "name": "stderr",
     "output_type": "stream",
     "text": [
      "                                                          \r"
     ]
    },
    {
     "name": "stdout",
     "output_type": "stream",
     "text": [
      "Epoch [9/20], Loss: 0.1418\n"
     ]
    },
    {
     "name": "stderr",
     "output_type": "stream",
     "text": [
      "                                                           \r"
     ]
    },
    {
     "name": "stdout",
     "output_type": "stream",
     "text": [
      "Epoch [10/20], Loss: 0.1422\n"
     ]
    },
    {
     "name": "stderr",
     "output_type": "stream",
     "text": [
      "                                                           \r"
     ]
    },
    {
     "name": "stdout",
     "output_type": "stream",
     "text": [
      "Epoch [11/20], Loss: 0.1435\n"
     ]
    },
    {
     "name": "stderr",
     "output_type": "stream",
     "text": [
      "                                                           \r"
     ]
    },
    {
     "name": "stdout",
     "output_type": "stream",
     "text": [
      "Epoch [12/20], Loss: 0.1304\n"
     ]
    },
    {
     "name": "stderr",
     "output_type": "stream",
     "text": [
      "                                                           \r"
     ]
    },
    {
     "name": "stdout",
     "output_type": "stream",
     "text": [
      "Epoch [13/20], Loss: 0.1247\n"
     ]
    },
    {
     "name": "stderr",
     "output_type": "stream",
     "text": [
      "                                                           \r"
     ]
    },
    {
     "name": "stdout",
     "output_type": "stream",
     "text": [
      "Epoch [14/20], Loss: 0.1067\n"
     ]
    },
    {
     "name": "stderr",
     "output_type": "stream",
     "text": [
      "                                                           \r"
     ]
    },
    {
     "name": "stdout",
     "output_type": "stream",
     "text": [
      "Epoch [15/20], Loss: 0.1087\n"
     ]
    },
    {
     "name": "stderr",
     "output_type": "stream",
     "text": [
      "                                                           \r"
     ]
    },
    {
     "name": "stdout",
     "output_type": "stream",
     "text": [
      "Epoch [16/20], Loss: 0.1138\n"
     ]
    },
    {
     "name": "stderr",
     "output_type": "stream",
     "text": [
      "                                                           \r"
     ]
    },
    {
     "name": "stdout",
     "output_type": "stream",
     "text": [
      "Epoch [17/20], Loss: 0.0961\n"
     ]
    },
    {
     "name": "stderr",
     "output_type": "stream",
     "text": [
      "                                                           \r"
     ]
    },
    {
     "name": "stdout",
     "output_type": "stream",
     "text": [
      "Epoch [18/20], Loss: 0.1029\n"
     ]
    },
    {
     "name": "stderr",
     "output_type": "stream",
     "text": [
      "                                                           \r"
     ]
    },
    {
     "name": "stdout",
     "output_type": "stream",
     "text": [
      "Epoch [19/20], Loss: 0.1179\n"
     ]
    },
    {
     "name": "stderr",
     "output_type": "stream",
     "text": [
      "                                                           \r"
     ]
    },
    {
     "name": "stdout",
     "output_type": "stream",
     "text": [
      "Epoch [20/20], Loss: 0.1010\n",
      "\n",
      "Average PR-AUC (Train): 0.9930\n",
      "Average AUC (Train): 0.8403\n",
      "Average F1 (Train): 0.9862\n",
      "Average Recall (Train): 1.0000\n",
      "Average Precision (Train): 0.9728\n",
      "Average MCC (Train): 0.1468\n",
      "Average Accuracy (Train): 0.9728\n",
      "\n",
      "Average PR-AUC (Validation): 0.9748\n",
      "Average AUC (Validation): 0.6798\n",
      "Average F1 (Validation): 0.9849\n",
      "Average Recall (Validation): 0.9986\n",
      "Average Precision (Validation): 0.9718\n",
      "Average MCC (Validation): -0.0020\n",
      "Average Accuracy (Validation): 0.9704\n"
     ]
    }
   ],
   "source": [
    "\n",
    "\n",
    "# 5折交叉验证\n",
    "kf = KFold(n_splits=5, shuffle=True, random_state=42)\n",
    "pr_auc_train_list, auc_train_list = [], []\n",
    "f1_train_list, recall_train_list = [], []\n",
    "precision_train_list, mcc_train_list = [], []\n",
    "accuracy_train_list, pr_auc_val_list = [], []\n",
    "auc_val_list, f1_val_list = [], []\n",
    "recall_val_list, precision_val_list = [], []\n",
    "mcc_val_list, accuracy_val_list = [], []\n",
    "\n",
    "# 交叉验证训练与评估\n",
    "for fold, (train_idx, val_idx) in enumerate(kf.split(X_tensor)):\n",
    "    print(f\"\\nFold {fold + 1}\")\n",
    "\n",
    "    # 获取当前fold的训练集和验证集\n",
    "    X_train_fold, X_val_fold = X_tensor[train_idx], X_tensor[val_idx]\n",
    "    y_train_fold, y_val_fold = y_tensor[train_idx], y_tensor[val_idx]\n",
    "\n",
    "    # 创建 DataLoader\n",
    "    train_dataloader = get_dataloader(X_train_fold, y_train_fold, batch_size=128)  # 增加batch size\n",
    "    val_dataloader = get_dataloader(X_val_fold, y_val_fold, batch_size=128)\n",
    "\n",
    "    # 创建 KAN 模型\n",
    "    model = KAN(width=[2048, 100, 1], grid=3, k=3, seed=42, device=device)\n",
    "\n",
    "    # 使用 AdamW 优化器\n",
    "    optimizer = torch.optim.AdamW(model.parameters(), lr=0.001)\n",
    "    criterion = torch.nn.BCEWithLogitsLoss()\n",
    "\n",
    "    # 训练 KAN 模型\n",
    "    train_kan(model, train_dataloader, optimizer, criterion, steps=20, patience=5)\n",
    "\n",
    "    # 评估模型（训练集和验证集）\n",
    "    for data, target in [(X_train_fold, y_train_fold), (X_val_fold, y_val_fold)]:\n",
    "        model.eval()\n",
    "        with torch.no_grad():\n",
    "            outputs = model(data)\n",
    "            probs = torch.sigmoid(outputs).squeeze().cpu().numpy()\n",
    "            target_cpu = target.cpu().numpy()\n",
    "            \n",
    "            # 计算 AUC 和其他指标\n",
    "            precision, recall, _ = precision_recall_curve(target_cpu, probs)\n",
    "            pr_auc = auc(recall, precision)\n",
    "            pr_auc_train_list.append(pr_auc) if data is X_train_fold else pr_auc_val_list.append(pr_auc)\n",
    "            \n",
    "            fpr, tpr, _ = roc_curve(target_cpu, probs)\n",
    "            auc_val = auc(fpr, tpr)\n",
    "            auc_train_list.append(auc_val) if data is X_train_fold else auc_val_list.append(auc_val)\n",
    "            \n",
    "            f1 = f1_score(target_cpu, (probs > 0.5).astype(int))\n",
    "            f1_train_list.append(f1) if data is X_train_fold else f1_val_list.append(f1)\n",
    "            \n",
    "            recall_val = recall_score(target_cpu, (probs > 0.5).astype(int))\n",
    "            recall_train_list.append(recall_val) if data is X_train_fold else recall_val_list.append(recall_val)\n",
    "            \n",
    "            precision_val = precision_score(target_cpu, (probs > 0.5).astype(int))\n",
    "            precision_train_list.append(precision_val) if data is X_train_fold else precision_val_list.append(precision_val)\n",
    "            \n",
    "            mcc_val = matthews_corrcoef(target_cpu, (probs > 0.5).astype(int))\n",
    "            mcc_train_list.append(mcc_val) if data is X_train_fold else mcc_val_list.append(mcc_val)\n",
    "            \n",
    "            accuracy_val = accuracy_score(target_cpu, (probs > 0.5).astype(int))\n",
    "            accuracy_train_list.append(accuracy_val) if data is X_train_fold else accuracy_val_list.append(accuracy_val)\n",
    "\n",
    "# 计算五折平均的评估指标（训练集和验证集）\n",
    "print(f\"\\nAverage PR-AUC (Train): {np.mean(pr_auc_train_list):.4f}\")\n",
    "print(f\"Average AUC (Train): {np.mean(auc_train_list):.4f}\")\n",
    "print(f\"Average F1 (Train): {np.mean(f1_train_list):.4f}\")\n",
    "print(f\"Average Recall (Train): {np.mean(recall_train_list):.4f}\")\n",
    "print(f\"Average Precision (Train): {np.mean(precision_train_list):.4f}\")\n",
    "print(f\"Average MCC (Train): {np.mean(mcc_train_list):.4f}\")\n",
    "print(f\"Average Accuracy (Train): {np.mean(accuracy_train_list):.4f}\")\n",
    "\n",
    "print(f\"\\nAverage PR-AUC (Validation): {np.mean(pr_auc_val_list):.4f}\")\n",
    "print(f\"Average AUC (Validation): {np.mean(auc_val_list):.4f}\")\n",
    "print(f\"Average F1 (Validation): {np.mean(f1_val_list):.4f}\")\n",
    "print(f\"Average Recall (Validation): {np.mean(recall_val_list):.4f}\")\n",
    "print(f\"Average Precision (Validation): {np.mean(precision_val_list):.4f}\")\n",
    "print(f\"Average MCC (Validation): {np.mean(mcc_val_list):.4f}\")\n",
    "print(f\"Average Accuracy (Validation): {np.mean(accuracy_val_list):.4f}\")\n"
   ]
  },
  {
   "cell_type": "code",
   "execution_count": 4,
   "id": "00b33ac6-48e5-47f9-99bf-964fb88ac61e",
   "metadata": {},
   "outputs": [
    {
     "name": "stdout",
     "output_type": "stream",
     "text": [
      "Model for Fold 5 saved as kan_model_fold_5.pth\n"
     ]
    }
   ],
   "source": [
    "    # 保存模型\n",
    "torch.save(model.state_dict(), f\"kan_model_fold_{fold + 1}.pth\")\n",
    "print(f\"Model for Fold {fold + 1} saved as kan_model_fold_{fold + 1}.pth\")\n"
   ]
  },
  {
   "cell_type": "code",
   "execution_count": null,
   "id": "b50bd70a-9530-4735-8378-f5204776913c",
   "metadata": {},
   "outputs": [],
   "source": []
  },
  {
   "cell_type": "code",
   "execution_count": null,
   "id": "3981187f-c9d4-4d62-92d8-d063f742ab7f",
   "metadata": {},
   "outputs": [],
   "source": []
  },
  {
   "cell_type": "code",
   "execution_count": null,
   "id": "40dd535e-e5bd-4ef5-99c5-5f859746bd3e",
   "metadata": {},
   "outputs": [],
   "source": [
    "Fold 1\n",
    "Train Set - Class 0: 17, Class 1: 549\n",
    "Val Set   - Class 0: 3, Class 1: 139\n",
    "\n",
    "\n",
    "Fold 2\n",
    "Train Set - Class 0: 15, Class 1: 551\n",
    "Val Set   - Class 0: 5, Class 1: 137\n",
    "\n",
    "\n",
    "Fold 3\n",
    "Train Set - Class 0: 14, Class 1: 552\n",
    "Val Set   - Class 0: 6, Class 1: 136\n",
    "\n",
    "\n",
    "Fold 4\n",
    "Train Set - Class 0: 18, Class 1: 549\n",
    "Val Set   - Class 0: 2, Class 1: 139\n",
    "\n",
    "\n",
    "Fold 5\n",
    "Train Set - Class 0: 16, Class 1: 551\n",
    "Val Set   - Class 0: 4, Class 1: 137"
   ]
  },
  {
   "cell_type": "code",
   "execution_count": null,
   "id": "03c4684c-944d-4370-b3b8-6fa677222186",
   "metadata": {},
   "outputs": [],
   "source": [
    "Average PR-AUC (Train): 0.9930\n",
    "Average AUC (Train): 0.8403\n",
    "Average F1 (Train): 0.9862\n",
    "Average Recall (Train): 1.0000\n",
    "Average Precision (Train): 0.9728\n",
    "Average MCC (Train): 0.1468\n",
    "Average Accuracy (Train): 0.9728\n",
    "\n",
    "Average PR-AUC (Validation): 0.9748\n",
    "Average AUC (Validation): 0.6798\n",
    "Average F1 (Validation): 0.9849\n",
    "Average Recall (Validation): 0.9986\n",
    "Average Precision (Validation): 0.9718\n",
    "Average MCC (Validation): -0.0020\n",
    "Average Accuracy (Validation): 0.9704"
   ]
  },
  {
   "cell_type": "code",
   "execution_count": null,
   "id": "bbd86fce-64fe-4f7e-9e11-382459760843",
   "metadata": {},
   "outputs": [],
   "source": [
    "import matplotlib.pyplot as plt\n",
    "from sklearn.metrics import roc_curve, auc, confusion_matrix, ConfusionMatrixDisplay\n",
    "\n",
    "# 用于存储训练和验证集的评估数据\n",
    "fpr_train_list, tpr_train_list, fpr_val_list, tpr_val_list = [], [], [], []\n",
    "y_true_train_all, y_true_val_all, y_pred_train_all, y_pred_val_all = [], [], [], []\n",
    "\n",
    "# 5折交叉验证\n",
    "kf = KFold(n_splits=5, shuffle=True, random_state=42)\n",
    "pr_auc_train_list, auc_train_list = [], []\n",
    "f1_train_list, recall_train_list = [], []\n",
    "precision_train_list, mcc_train_list = [], []\n",
    "accuracy_train_list, pr_auc_val_list = [], []\n",
    "auc_val_list, f1_val_list = [], []\n",
    "recall_val_list, precision_val_list = [], []\n",
    "mcc_val_list, accuracy_val_list = [], []\n",
    "fold_distributions = []\n",
    "# 交叉验证训练与评估\n",
    "for fold, (train_idx, val_idx) in enumerate(kf.split(X_tensor)):\n",
    "    print(f\"\\nFold {fold + 1}\")\n",
    "\n",
    "    # 获取当前fold的训练集和验证集\n",
    "    X_train_fold, X_val_fold = X_tensor[train_idx], X_tensor[val_idx]\n",
    "    y_train_fold, y_val_fold = y_tensor[train_idx], y_tensor[val_idx]\n",
    "\n",
    "    y_train_labels = y[train_idx]\n",
    "    y_val_labels = y[val_idx]\n",
    "    \n",
    "    # 统计类别0和1的数量\n",
    "    train_class_counts = np.bincount(y_train_labels.astype(int), minlength=2)\n",
    "    val_class_counts = np.bincount(y_val_labels.astype(int), minlength=2)\n",
    "    \n",
    "    # 记录分布信息\n",
    "    fold_distributions.append({\n",
    "        \"Fold\": fold + 1,\n",
    "        \"Train_Class0\": train_class_counts[0],\n",
    "        \"Train_Class1\": train_class_counts[1],\n",
    "        \"Val_Class0\": val_class_counts[0],\n",
    "        \"Val_Class1\": val_class_counts[1]\n",
    "    })\n",
    "    \n",
    "    # 打印当前fold分布\n",
    "    print(f\"Train Set - Class 0: {train_class_counts[0]}, Class 1: {train_class_counts[1]}\")\n",
    "    print(f\"Val Set   - Class 0: {val_class_counts[0]}, Class 1: {val_class_counts[1]}\\n\")"
   ]
  }
 ],
 "metadata": {
  "kernelspec": {
   "display_name": "Python 3 (ipykernel)",
   "language": "python",
   "name": "python3"
  },
  "language_info": {
   "codemirror_mode": {
    "name": "ipython",
    "version": 3
   },
   "file_extension": ".py",
   "mimetype": "text/x-python",
   "name": "python",
   "nbconvert_exporter": "python",
   "pygments_lexer": "ipython3",
   "version": "3.12.2"
  }
 },
 "nbformat": 4,
 "nbformat_minor": 5
}
