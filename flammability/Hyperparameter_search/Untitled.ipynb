{
 "cells": [
  {
   "cell_type": "code",
   "execution_count": 2,
   "id": "d523f0a8-97e4-4428-8031-9dd1dab91c3c",
   "metadata": {},
   "outputs": [],
   "source": [
    "import pandas as pd\n",
    "from rdkit import Chem\n",
    "\n",
    "# 读取数据\n",
    "data = pd.read_csv(\"./imputed_selected_features_Flam.csv\")\n",
    "data = data.dropna()  # 删除缺失值\n",
    "smiles_data = data['SMILES'].tolist()\n",
    "\n",
    "# 将 SMILES 转换为 Canonical SMILES\n",
    "canonical_smiles = []\n",
    "for smile in smiles_data:\n",
    "    mol = Chem.MolFromSmiles(smile)  # 从 SMILES 字符串生成分子对象\n",
    "    if mol:  # 检查分子对象是否成功创建\n",
    "        canonical_smiles.append(Chem.MolToSmiles(mol, canonical=True))  # 获取标准化的 Canonical SMILES\n",
    "    else:\n",
    "        canonical_smiles.append(None)  # 如果不能生成分子对象，返回 None\n",
    "\n",
    "# 将 Canonical SMILES 添加到 DataFrame 中\n",
    "data['Canonical_SMILES'] = canonical_smiles"
   ]
  },
  {
   "cell_type": "code",
   "execution_count": 3,
   "id": "3a2d0d02-c1c6-4b30-9ba0-ba9ce730c41c",
   "metadata": {},
   "outputs": [],
   "source": [
    "data.to_csv('./imputed_selected_features_Flam.csv')"
   ]
  },
  {
   "cell_type": "code",
   "execution_count": null,
   "id": "13dc31f6-8003-45bb-9f4a-80db7f072305",
   "metadata": {},
   "outputs": [],
   "source": []
  }
 ],
 "metadata": {
  "kernelspec": {
   "display_name": "Python 3 (ipykernel)",
   "language": "python",
   "name": "python3"
  },
  "language_info": {
   "codemirror_mode": {
    "name": "ipython",
    "version": 3
   },
   "file_extension": ".py",
   "mimetype": "text/x-python",
   "name": "python",
   "nbconvert_exporter": "python",
   "pygments_lexer": "ipython3",
   "version": "3.12.2"
  }
 },
 "nbformat": 4,
 "nbformat_minor": 5
}
