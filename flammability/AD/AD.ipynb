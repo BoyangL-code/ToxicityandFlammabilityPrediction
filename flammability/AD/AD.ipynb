{
 "cells": [
  {
   "cell_type": "code",
   "execution_count": null,
   "id": "218ea82b-b4d8-46f0-a35c-62bdb713e018",
   "metadata": {},
   "outputs": [],
   "source": [
    "#性能最好的三个模型XGB  RF  LGB"
   ]
  },
  {
   "cell_type": "code",
   "execution_count": 1,
   "id": "f11918e0-2b87-41ee-a359-0877db74f65b",
   "metadata": {},
   "outputs": [],
   "source": [
    "import warnings\n",
    "from rdkit import RDLogger\n",
    "\n",
    "# 屏蔽 RDKit 警告\n",
    "RDLogger.DisableLog('rdApp.*')\n",
    "\n",
    "# 或屏蔽所有 Python 警告\n",
    "warnings.filterwarnings(\"ignore\")\n",
    "# 屏蔽 LightGBM 警告\n",
    "warnings.filterwarnings(\"ignore\", category=UserWarning, module=\"lightgbm\")"
   ]
  },
  {
   "cell_type": "code",
   "execution_count": null,
   "id": "efb57727-21b1-4fd7-b8cf-067478532ec7",
   "metadata": {},
   "outputs": [],
   "source": []
  },
  {
   "cell_type": "code",
   "execution_count": 2,
   "id": "5c6960f7-0685-4524-ae59-7f3542baf8b8",
   "metadata": {},
   "outputs": [],
   "source": [
    "import torch\n",
    "from sklearn.model_selection import StratifiedKFold\n",
    "import pandas as pd\n",
    "import numpy as np\n",
    "from rdkit import Chem\n",
    "from rdkit.Chem import AllChem\n",
    "from sklearn.metrics import precision_recall_curve, auc, f1_score, precision_score, recall_score, accuracy_score\n",
    "from xgboost import XGBClassifier\n",
    "import joblib\n",
    "from tqdm import tqdm\n",
    "from rdkit.Chem import Descriptors, AllChem\n",
    "\n",
    "from sklearn.metrics import roc_curve\n",
    "\n",
    "\n",
    "\n",
    "# 数据预处理\n",
    "df = pd.read_csv('../imputed_selected_features_Flam.csv')\n",
    "labels = df['Flammability'].values\n",
    "smiles_list = df['SMILES'].tolist()\n",
    "\n",
    "# 函数：将SMILES转换为分子描述符和指纹\n",
    "def smiles_to_features(smiles):\n",
    "    mol = Chem.MolFromSmiles(smiles)\n",
    "    if mol is None:\n",
    "        return None\n",
    "    # 提取描述符\n",
    "    descriptors = [\n",
    "        Descriptors.MolWt(mol),  # 分子量\n",
    "        Descriptors.MolLogP(mol),  # LogP\n",
    "        Descriptors.NumHDonors(mol),  # 氢键供体数量\n",
    "        Descriptors.NumHAcceptors(mol)  # 氢键受体数量\n",
    "    ]\n",
    "    # 生成Morgan指纹\n",
    "    fingerprint = AllChem.GetMorganFingerprintAsBitVect(mol, 2, nBits=2048)\n",
    "    fingerprint_array = np.zeros((2048,))\n",
    "    Chem.DataStructs.ConvertToNumpyArray(fingerprint, fingerprint_array)\n",
    "    # 合并描述符和指纹\n",
    "    features = np.concatenate([descriptors, fingerprint_array])\n",
    "    return features\n",
    "\n",
    "# 将SMILES转换为特征\n",
    "features = []\n",
    "for smiles in smiles_list:\n",
    "    feature = smiles_to_features(smiles)\n",
    "    if feature is not None:\n",
    "        features.append(feature)\n",
    "\n",
    "# 转换为numpy数组\n",
    "features = np.array(features)\n",
    "\n",
    "y = labels\n",
    "X = np.array(features)\n",
    "\n",
    "import pandas as pd\n",
    "import numpy as np\n",
    "from sklearn.metrics import precision_recall_curve, auc, roc_curve, accuracy_score, precision_score, recall_score, f1_score\n",
    "from sklearn.model_selection import StratifiedKFold\n",
    "from tqdm import tqdm\n",
    "\n",
    "# 直接使用最优参数进行五折交叉验证\n",
    "def train_evaluate_with_best_params(model_name, model_class, best_params, X, y):\n",
    "    # 创建模型并设置最优参数\n",
    "    model = model_class(**best_params)\n",
    "\n",
    "    # 五折交叉验证\n",
    "    skf = StratifiedKFold(n_splits=5, shuffle=True, random_state=42)\n",
    "    \n",
    "    # 存储各个折的评价指标\n",
    "    metrics_test = {'PR-AUC': [], 'AU-ROC': [], 'ACC': [], 'PREC': [], 'REC': [], 'F1': []}\n",
    "    \n",
    "    # 存储预测错误的样本信息\n",
    "    misclassified_idx_ALL=[]\n",
    "    misclassified_X_ALL=[]\n",
    "    misclassified_y_ALL=[]\n",
    "    misclassified_fold_ALL=[]\n",
    "    misclassified_y_prob_ALL=[]\n",
    "    \n",
    "    # 使用 tqdm 包裹五折交叉验证的每一折\n",
    "    for fold, (train_idx, val_idx) in enumerate(tqdm(skf.split(X, y), total=5, desc=f\"Training {model_name}\")):\n",
    "        \n",
    "        \n",
    "        X_train, X_val = X[train_idx], X[val_idx]\n",
    "        y_train, y_val = y[train_idx], y[val_idx]\n",
    "\n",
    "        model.fit(X_train, y_train)\n",
    "\n",
    "        # 测试集指标\n",
    "        y_prob_test = model.predict_proba(X_val)[:, 1]\n",
    "        precision_test, recall_test, _ = precision_recall_curve(y_val, y_prob_test)\n",
    "        pr_auc_test = auc(recall_test, precision_test)\n",
    "        metrics_test['PR-AUC'].append(pr_auc_test)\n",
    "\n",
    "        fpr_test, tpr_test, _ = roc_curve(y_val, y_prob_test)\n",
    "        auc_test = auc(fpr_test, tpr_test)\n",
    "        metrics_test['AU-ROC'].append(auc_test)\n",
    "\n",
    "        accuracy_test = accuracy_score(y_val, (y_prob_test > 0.5).astype(int))\n",
    "        metrics_test['ACC'].append(accuracy_test)\n",
    "\n",
    "        precision_test_val = precision_score(y_val, (y_prob_test > 0.5).astype(int))\n",
    "        metrics_test['PREC'].append(precision_test_val)\n",
    "\n",
    "        recall_test_val = recall_score(y_val, (y_prob_test > 0.5).astype(int))\n",
    "        metrics_test['REC'].append(recall_test_val)\n",
    "\n",
    "        f1_test_val = f1_score(y_val, (y_prob_test > 0.5).astype(int))\n",
    "        metrics_test['F1'].append(f1_test_val)\n",
    "\n",
    "        # 找出预测错误的样本\n",
    "        misclassified_idx = np.where(y_val != (y_prob_test > 0.5).astype(int))[0]\n",
    "    \n",
    "        \n",
    "        for i in misclassified_idx:\n",
    "    \n",
    "            misclassified_idx_ALL.append(val_idx[i])\n",
    "            misclassified_fold_ALL.append(fold + 1)\n",
    "            misclassified_y_ALL.append(y_val[i])\n",
    "            misclassified_X_ALL.append(X_val[i])\n",
    "            misclassified_y_prob_ALL.append(y_prob_test[i])\n",
    "            \n",
    "\n",
    "        print(f\"Fold {fold + 1} - Test metrics:\")\n",
    "        for metric, values in metrics_test.items():\n",
    "            print(f\"  {metric}: {values[-1]:.4f}\")\n",
    "        print()\n",
    "\n",
    "    # 计算各个评价指标的平均值\n",
    "    results = {\n",
    "        'Metric': ['PR-AUC', 'AU-ROC', 'F1', 'REC', 'PREC', 'ACC'],\n",
    "        'Test': [\n",
    "            np.mean(metrics_test['PR-AUC']),\n",
    "            np.mean(metrics_test['AU-ROC']),\n",
    "            np.mean(metrics_test['F1']),\n",
    "            np.mean(metrics_test['REC']),\n",
    "            np.mean(metrics_test['PREC']),\n",
    "            np.mean(metrics_test['ACC'])\n",
    "            ]\n",
    "        }\n",
    "    data = {\n",
    "    'fold':misclassified_fold_ALL,\n",
    "    'index': misclassified_idx_ALL,\n",
    "    'X': misclassified_X_ALL,\n",
    "    'y': misclassified_y_ALL,\n",
    "    'y_prob' : misclassified_y_prob_ALL\n",
    "    }\n",
    "        # 使用pandas将字典转换为DataFrame\n",
    "    df = pd.DataFrame(data)\n",
    "    \n",
    "    # 将DataFrame保存为CSV文件\n",
    "    df.to_csv(f'{model_name}_misclassified_samples.csv', index=False)\n",
    "    \n",
    "    #print(\"CSV文件已保存\")\n",
    "\n"
   ]
  },
  {
   "cell_type": "code",
   "execution_count": null,
   "id": "0e05d034-7404-4dce-8436-c84011106371",
   "metadata": {},
   "outputs": [],
   "source": []
  },
  {
   "cell_type": "code",
   "execution_count": null,
   "id": "3d250a25-84ea-4410-ba98-f531f62adf77",
   "metadata": {},
   "outputs": [],
   "source": []
  },
  {
   "cell_type": "code",
   "execution_count": null,
   "id": "a8e495cd-2cc2-48e2-aace-681d7b5937d1",
   "metadata": {},
   "outputs": [],
   "source": []
  },
  {
   "cell_type": "code",
   "execution_count": 3,
   "id": "f74d378f-c81b-404a-a60b-c4328246321c",
   "metadata": {},
   "outputs": [
    {
     "name": "stderr",
     "output_type": "stream",
     "text": [
      "Training XGBoost:  20%|██        | 1/5 [00:00<00:03,  1.15it/s]"
     ]
    },
    {
     "name": "stdout",
     "output_type": "stream",
     "text": [
      "Fold 1 - Test metrics:\n",
      "  PR-AUC: 0.9924\n",
      "  AU-ROC: 0.7880\n",
      "  ACC: 0.9577\n",
      "  PREC: 0.9714\n",
      "  REC: 0.9855\n",
      "  F1: 0.9784\n",
      "\n"
     ]
    },
    {
     "name": "stderr",
     "output_type": "stream",
     "text": [
      "Training XGBoost:  40%|████      | 2/5 [00:01<00:02,  1.16it/s]"
     ]
    },
    {
     "name": "stdout",
     "output_type": "stream",
     "text": [
      "Fold 2 - Test metrics:\n",
      "  PR-AUC: 0.9923\n",
      "  AU-ROC: 0.7880\n",
      "  ACC: 0.9718\n",
      "  PREC: 0.9718\n",
      "  REC: 1.0000\n",
      "  F1: 0.9857\n",
      "\n"
     ]
    },
    {
     "name": "stderr",
     "output_type": "stream",
     "text": [
      "Training XGBoost:  60%|██████    | 3/5 [00:02<00:01,  1.15it/s]"
     ]
    },
    {
     "name": "stdout",
     "output_type": "stream",
     "text": [
      "Fold 3 - Test metrics:\n",
      "  PR-AUC: 0.9945\n",
      "  AU-ROC: 0.8605\n",
      "  ACC: 0.9718\n",
      "  PREC: 0.9786\n",
      "  REC: 0.9928\n",
      "  F1: 0.9856\n",
      "\n"
     ]
    },
    {
     "name": "stderr",
     "output_type": "stream",
     "text": [
      "Training XGBoost:  80%|████████  | 4/5 [00:03<00:00,  1.14it/s]"
     ]
    },
    {
     "name": "stdout",
     "output_type": "stream",
     "text": [
      "Fold 4 - Test metrics:\n",
      "  PR-AUC: 0.9995\n",
      "  AU-ROC: 0.9836\n",
      "  ACC: 0.9787\n",
      "  PREC: 0.9855\n",
      "  REC: 0.9927\n",
      "  F1: 0.9891\n",
      "\n"
     ]
    },
    {
     "name": "stderr",
     "output_type": "stream",
     "text": [
      "Training XGBoost: 100%|██████████| 5/5 [00:04<00:00,  1.14it/s]"
     ]
    },
    {
     "name": "stdout",
     "output_type": "stream",
     "text": [
      "Fold 5 - Test metrics:\n",
      "  PR-AUC: 0.9906\n",
      "  AU-ROC: 0.7464\n",
      "  ACC: 0.9504\n",
      "  PREC: 0.9710\n",
      "  REC: 0.9781\n",
      "  F1: 0.9745\n",
      "\n"
     ]
    },
    {
     "name": "stderr",
     "output_type": "stream",
     "text": [
      "\n"
     ]
    }
   ],
   "source": [
    "# 最优参数\n",
    "best_params_xgb = {'n_estimators': 368, 'max_depth': 1, 'learning_rate': 0.5946860775199619,'eval_metric': 'error'  \n",
    "}\n",
    "train_evaluate_with_best_params(\"XGBoost\", XGBClassifier, best_params_xgb, X, y)\n"
   ]
  },
  {
   "cell_type": "code",
   "execution_count": null,
   "id": "c72a2b78-bf3b-4d44-a867-dd19e29a176e",
   "metadata": {},
   "outputs": [],
   "source": []
  },
  {
   "cell_type": "code",
   "execution_count": null,
   "id": "accf7c2b-e100-4ab4-a04a-8f76dc418000",
   "metadata": {},
   "outputs": [],
   "source": []
  },
  {
   "cell_type": "code",
   "execution_count": null,
   "id": "0e46fbef-a4ce-45da-b897-e4b79abc1055",
   "metadata": {},
   "outputs": [],
   "source": []
  },
  {
   "cell_type": "code",
   "execution_count": null,
   "id": "f885f986-c36f-463f-b861-99620526ea0d",
   "metadata": {},
   "outputs": [],
   "source": []
  },
  {
   "cell_type": "code",
   "execution_count": null,
   "id": "c713a174-63b1-4d90-b504-f8a5e52fa223",
   "metadata": {},
   "outputs": [],
   "source": []
  },
  {
   "cell_type": "code",
   "execution_count": null,
   "id": "acb1467a-b310-4e19-9851-fa8147a41aa7",
   "metadata": {},
   "outputs": [],
   "source": []
  },
  {
   "cell_type": "code",
   "execution_count": 5,
   "id": "d33c46c2-01f0-4222-9fcf-4b69782027d2",
   "metadata": {},
   "outputs": [
    {
     "name": "stderr",
     "output_type": "stream",
     "text": [
      "Training SVM:  20%|██        | 1/5 [00:00<00:02,  1.55it/s]"
     ]
    },
    {
     "name": "stdout",
     "output_type": "stream",
     "text": [
      "Fold 1 - Test metrics:\n",
      "  PR-AUC: 0.9945\n",
      "  AU-ROC: 0.8261\n",
      "  ACC: 0.9718\n",
      "  PREC: 0.9718\n",
      "  REC: 1.0000\n",
      "  F1: 0.9857\n",
      "\n"
     ]
    },
    {
     "name": "stderr",
     "output_type": "stream",
     "text": [
      "Training SVM:  40%|████      | 2/5 [00:01<00:01,  1.96it/s]"
     ]
    },
    {
     "name": "stdout",
     "output_type": "stream",
     "text": [
      "Fold 2 - Test metrics:\n",
      "  PR-AUC: 0.9714\n",
      "  AU-ROC: 0.6612\n",
      "  ACC: 0.9648\n",
      "  PREC: 0.9716\n",
      "  REC: 0.9928\n",
      "  F1: 0.9821\n",
      "\n"
     ]
    },
    {
     "name": "stderr",
     "output_type": "stream",
     "text": [
      "Training SVM:  60%|██████    | 3/5 [00:01<00:01,  1.80it/s]"
     ]
    },
    {
     "name": "stdout",
     "output_type": "stream",
     "text": [
      "Fold 3 - Test metrics:\n",
      "  PR-AUC: 0.9966\n",
      "  AU-ROC: 0.9004\n",
      "  ACC: 0.9718\n",
      "  PREC: 0.9718\n",
      "  REC: 1.0000\n",
      "  F1: 0.9857\n",
      "\n"
     ]
    },
    {
     "name": "stderr",
     "output_type": "stream",
     "text": [
      "Training SVM:  80%|████████  | 4/5 [00:02<00:00,  1.42it/s]"
     ]
    },
    {
     "name": "stdout",
     "output_type": "stream",
     "text": [
      "Fold 4 - Test metrics:\n",
      "  PR-AUC: 0.9984\n",
      "  AU-ROC: 0.9489\n",
      "  ACC: 0.9716\n",
      "  PREC: 0.9716\n",
      "  REC: 1.0000\n",
      "  F1: 0.9856\n",
      "\n"
     ]
    },
    {
     "name": "stderr",
     "output_type": "stream",
     "text": [
      "Training SVM: 100%|██████████| 5/5 [00:03<00:00,  1.55it/s]"
     ]
    },
    {
     "name": "stdout",
     "output_type": "stream",
     "text": [
      "Fold 5 - Test metrics:\n",
      "  PR-AUC: 0.9931\n",
      "  AU-ROC: 0.7974\n",
      "  ACC: 0.9716\n",
      "  PREC: 0.9716\n",
      "  REC: 1.0000\n",
      "  F1: 0.9856\n",
      "\n"
     ]
    },
    {
     "name": "stderr",
     "output_type": "stream",
     "text": [
      "\n"
     ]
    }
   ],
   "source": [
    "\n",
    "\n",
    "from sklearn.svm import SVC\n",
    "\n",
    "# 最优参数（SVM）启用概率估计\n",
    "best_params_svm = {'C': 0.977399931193936, 'gamma': 0.010961352543547414, 'kernel': 'linear','probability': True}\n",
    "\n",
    "# 训练并评估 SVM 模型\n",
    "train_evaluate_with_best_params(\"SVM\", SVC, best_params_svm, X, y)\n",
    "\n",
    "\n"
   ]
  },
  {
   "cell_type": "code",
   "execution_count": 4,
   "id": "dc191328-1897-4328-9a0b-9425cda59c98",
   "metadata": {},
   "outputs": [
    {
     "name": "stderr",
     "output_type": "stream",
     "text": [
      "Training LightGBM:  20%|██        | 1/5 [00:00<00:01,  3.89it/s]"
     ]
    },
    {
     "name": "stdout",
     "output_type": "stream",
     "text": [
      "Fold 1 - Test metrics:\n",
      "  PR-AUC: 0.9919\n",
      "  AU-ROC: 0.7627\n",
      "  ACC: 0.9648\n",
      "  PREC: 0.9716\n",
      "  REC: 0.9928\n",
      "  F1: 0.9821\n",
      "\n"
     ]
    },
    {
     "name": "stderr",
     "output_type": "stream",
     "text": [
      "Training LightGBM:  40%|████      | 2/5 [00:00<00:00,  4.10it/s]"
     ]
    },
    {
     "name": "stdout",
     "output_type": "stream",
     "text": [
      "Fold 2 - Test metrics:\n",
      "  PR-AUC: 0.9939\n",
      "  AU-ROC: 0.8170\n",
      "  ACC: 0.9718\n",
      "  PREC: 0.9718\n",
      "  REC: 1.0000\n",
      "  F1: 0.9857\n",
      "\n"
     ]
    },
    {
     "name": "stderr",
     "output_type": "stream",
     "text": [
      "Training LightGBM:  60%|██████    | 3/5 [00:00<00:00,  4.13it/s]"
     ]
    },
    {
     "name": "stdout",
     "output_type": "stream",
     "text": [
      "Fold 3 - Test metrics:\n",
      "  PR-AUC: 0.9902\n",
      "  AU-ROC: 0.7862\n",
      "  ACC: 0.9789\n",
      "  PREC: 0.9787\n",
      "  REC: 1.0000\n",
      "  F1: 0.9892\n",
      "\n"
     ]
    },
    {
     "name": "stderr",
     "output_type": "stream",
     "text": [
      "Training LightGBM:  80%|████████  | 4/5 [00:00<00:00,  4.23it/s]"
     ]
    },
    {
     "name": "stdout",
     "output_type": "stream",
     "text": [
      "Fold 4 - Test metrics:\n",
      "  PR-AUC: 0.9943\n",
      "  AU-ROC: 0.8431\n",
      "  ACC: 0.9645\n",
      "  PREC: 0.9714\n",
      "  REC: 0.9927\n",
      "  F1: 0.9819\n",
      "\n"
     ]
    },
    {
     "name": "stderr",
     "output_type": "stream",
     "text": [
      "Training LightGBM: 100%|██████████| 5/5 [00:01<00:00,  4.23it/s]"
     ]
    },
    {
     "name": "stdout",
     "output_type": "stream",
     "text": [
      "Fold 5 - Test metrics:\n",
      "  PR-AUC: 0.9938\n",
      "  AU-ROC: 0.8102\n",
      "  ACC: 0.9645\n",
      "  PREC: 0.9714\n",
      "  REC: 0.9927\n",
      "  F1: 0.9819\n",
      "\n"
     ]
    },
    {
     "name": "stderr",
     "output_type": "stream",
     "text": [
      "\n"
     ]
    }
   ],
   "source": [
    "from lightgbm import LGBMClassifier\n",
    "\n",
    "# 最优参数（LightGBM）\n",
    "best_params_lgbm = {'n_estimators': 529, 'max_depth': 32, 'num_leaves': 1337, 'learning_rate': 0.16178297903549685,'verbose': -1 }\n",
    "\n",
    "# 训练并评估 LightGBM 模型\n",
    "train_evaluate_with_best_params(\"LightGBM\", LGBMClassifier, best_params_lgbm, X, y)\n"
   ]
  },
  {
   "cell_type": "code",
   "execution_count": null,
   "id": "2105bc96-6e66-4702-8167-39c6d75cb54b",
   "metadata": {},
   "outputs": [],
   "source": []
  }
 ],
 "metadata": {
  "kernelspec": {
   "display_name": "Python 3 (ipykernel)",
   "language": "python",
   "name": "python3"
  },
  "language_info": {
   "codemirror_mode": {
    "name": "ipython",
    "version": 3
   },
   "file_extension": ".py",
   "mimetype": "text/x-python",
   "name": "python",
   "nbconvert_exporter": "python",
   "pygments_lexer": "ipython3",
   "version": "3.12.3"
  }
 },
 "nbformat": 4,
 "nbformat_minor": 5
}
