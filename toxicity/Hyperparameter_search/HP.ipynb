{
 "cells": [
  {
   "cell_type": "code",
   "execution_count": null,
   "id": "4d521ccb-2316-48b8-83b9-3e581e25ba08",
   "metadata": {},
   "outputs": [],
   "source": [
    "Best parameters for GCN: {'hidden_channels': 32, 'lr': 0.009988526972650558, 'dropout': 0.3996821353001455, 'l2_rate': 2.8813156127656458e-05}."
   ]
  },
  {
   "cell_type": "code",
   "execution_count": null,
   "id": "bb738056-c1b6-4410-bc25-de2e1e0244a7",
   "metadata": {},
   "outputs": [],
   "source": [
    "Best parameters for GAT: {'hidden_channels': 14, 'lr': 0.0003038950143326671, 'dropout': 0.0057047839760293595, 'l2_rate': 2.2622446008995176e-05}."
   ]
  },
  {
   "cell_type": "code",
   "execution_count": null,
   "id": "a0f4c163-45bd-4e42-9955-7b3624fe436f",
   "metadata": {},
   "outputs": [],
   "source": [
    "Best parameters for GraphSAGE: {'hidden_channels': 20, 'lr': 0.007348808231992759, 'dropout': 0.408932921222231, 'l2_rate': 0.00042906041101545}"
   ]
  },
  {
   "cell_type": "code",
   "execution_count": null,
   "id": "b61c4f17-1269-40a1-98ea-306e3eb5946a",
   "metadata": {},
   "outputs": [],
   "source": [
    "Best parameters for RandomForest: {'n_estimators': 659, 'max_depth': 32, 'min_samples_split': 0.021676009502668372}"
   ]
  },
  {
   "cell_type": "code",
   "execution_count": null,
   "id": "f605b7f5-79ab-444b-9161-08318313951f",
   "metadata": {},
   "outputs": [],
   "source": [
    "Best parameters for LightGBM: {'n_estimators': 847, 'max_depth': 28, 'num_leaves': 959, 'learning_rate': 0.41408607247765644}"
   ]
  },
  {
   "cell_type": "code",
   "execution_count": null,
   "id": "5efe6c71-dea6-4ff6-b211-450e8eb94bb5",
   "metadata": {},
   "outputs": [],
   "source": [
    "Best parameters for XGBoost: {'n_estimators': 10, 'max_depth': 27, 'learning_rate': 0.0809714150972509}"
   ]
  },
  {
   "cell_type": "code",
   "execution_count": null,
   "id": "b6300d78-51bd-42d3-ba83-bb9ed6e07657",
   "metadata": {},
   "outputs": [],
   "source": [
    "Best parameters for SVM: {'C': 0.01559252830927682, 'gamma': 0.06808617250161814, 'kernel': 'linear'}"
   ]
  },
  {
   "cell_type": "code",
   "execution_count": null,
   "id": "24e5e5a8-3b0a-4395-ae4b-96e895a9ed30",
   "metadata": {},
   "outputs": [],
   "source": [
    "Best parameters for KNN: {'n_neighbors': 7, 'weights': 'uniform', 'metric': 'manhattan'}"
   ]
  },
  {
   "cell_type": "code",
   "execution_count": null,
   "id": "2dbdf278-9a3b-443f-bb7a-5d0a7dc27193",
   "metadata": {},
   "outputs": [],
   "source": []
  }
 ],
 "metadata": {
  "kernelspec": {
   "display_name": "Python 3 (ipykernel)",
   "language": "python",
   "name": "python3"
  },
  "language_info": {
   "codemirror_mode": {
    "name": "ipython",
    "version": 3
   },
   "file_extension": ".py",
   "mimetype": "text/x-python",
   "name": "python",
   "nbconvert_exporter": "python",
   "pygments_lexer": "ipython3",
   "version": "3.12.2"
  }
 },
 "nbformat": 4,
 "nbformat_minor": 5
}
