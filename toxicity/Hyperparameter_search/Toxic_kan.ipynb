{
 "cells": [
  {
   "cell_type": "code",
   "execution_count": 1,
   "id": "180f31b1-80b5-4f60-8027-4601d15804ee",
   "metadata": {},
   "outputs": [],
   "source": [
    "#pip install pykan -i https://pypi.tuna.tsinghua.edu.cn/simple\n"
   ]
  },
  {
   "cell_type": "code",
   "execution_count": 1,
   "id": "6463d772-1374-4d98-8168-de812360bf6f",
   "metadata": {},
   "outputs": [],
   "source": [
    "import warnings\n",
    "from rdkit import RDLogger\n",
    "\n",
    "# 屏蔽 RDKit 警告\n",
    "RDLogger.DisableLog('rdApp.*')\n",
    "\n",
    "# 或屏蔽所有 Python 警告\n",
    "warnings.filterwarnings(\"ignore\")\n"
   ]
  },
  {
   "cell_type": "code",
   "execution_count": 3,
   "id": "c26c012f-6056-46a8-848d-f2eaef19deab",
   "metadata": {},
   "outputs": [
    {
     "name": "stdout",
     "output_type": "stream",
     "text": [
      "\n",
      "Fold 1\n",
      "checkpoint directory created: ./model\n",
      "saving model version 0.0\n"
     ]
    },
    {
     "name": "stderr",
     "output_type": "stream",
     "text": [
      "                                                         \r"
     ]
    },
    {
     "name": "stdout",
     "output_type": "stream",
     "text": [
      "Epoch [1/20], Loss: 0.6102\n"
     ]
    },
    {
     "name": "stderr",
     "output_type": "stream",
     "text": [
      "                                                          \r"
     ]
    },
    {
     "name": "stdout",
     "output_type": "stream",
     "text": [
      "Epoch [2/20], Loss: 0.4692\n"
     ]
    },
    {
     "name": "stderr",
     "output_type": "stream",
     "text": [
      "                                                         \r"
     ]
    },
    {
     "name": "stdout",
     "output_type": "stream",
     "text": [
      "Epoch [3/20], Loss: 0.4185\n"
     ]
    },
    {
     "name": "stderr",
     "output_type": "stream",
     "text": [
      "                                                         \r"
     ]
    },
    {
     "name": "stdout",
     "output_type": "stream",
     "text": [
      "Epoch [4/20], Loss: 0.3719\n"
     ]
    },
    {
     "name": "stderr",
     "output_type": "stream",
     "text": [
      "                                                         \r"
     ]
    },
    {
     "name": "stdout",
     "output_type": "stream",
     "text": [
      "Epoch [5/20], Loss: 0.3613\n"
     ]
    },
    {
     "name": "stderr",
     "output_type": "stream",
     "text": [
      "                                                         \r"
     ]
    },
    {
     "name": "stdout",
     "output_type": "stream",
     "text": [
      "Epoch [6/20], Loss: 0.3534\n"
     ]
    },
    {
     "name": "stderr",
     "output_type": "stream",
     "text": [
      "                                                          \r"
     ]
    },
    {
     "name": "stdout",
     "output_type": "stream",
     "text": [
      "Epoch [7/20], Loss: 0.3375\n"
     ]
    },
    {
     "name": "stderr",
     "output_type": "stream",
     "text": [
      "                                                         \r"
     ]
    },
    {
     "name": "stdout",
     "output_type": "stream",
     "text": [
      "Epoch [8/20], Loss: 0.3318\n"
     ]
    },
    {
     "name": "stderr",
     "output_type": "stream",
     "text": [
      "                                                          \r"
     ]
    },
    {
     "name": "stdout",
     "output_type": "stream",
     "text": [
      "Epoch [9/20], Loss: 0.3219\n"
     ]
    },
    {
     "name": "stderr",
     "output_type": "stream",
     "text": [
      "                                                          \r"
     ]
    },
    {
     "name": "stdout",
     "output_type": "stream",
     "text": [
      "Epoch [10/20], Loss: 0.3516\n"
     ]
    },
    {
     "name": "stderr",
     "output_type": "stream",
     "text": [
      "                                                          \r"
     ]
    },
    {
     "name": "stdout",
     "output_type": "stream",
     "text": [
      "Epoch [11/20], Loss: 0.3155\n"
     ]
    },
    {
     "name": "stderr",
     "output_type": "stream",
     "text": [
      "                                                           \r"
     ]
    },
    {
     "name": "stdout",
     "output_type": "stream",
     "text": [
      "Epoch [12/20], Loss: 0.3070\n"
     ]
    },
    {
     "name": "stderr",
     "output_type": "stream",
     "text": [
      "                                                          \r"
     ]
    },
    {
     "name": "stdout",
     "output_type": "stream",
     "text": [
      "Epoch [13/20], Loss: 0.3082\n"
     ]
    },
    {
     "name": "stderr",
     "output_type": "stream",
     "text": [
      "                                                          \r"
     ]
    },
    {
     "name": "stdout",
     "output_type": "stream",
     "text": [
      "Epoch [14/20], Loss: 0.2983\n"
     ]
    },
    {
     "name": "stderr",
     "output_type": "stream",
     "text": [
      "                                                          \r"
     ]
    },
    {
     "name": "stdout",
     "output_type": "stream",
     "text": [
      "Epoch [15/20], Loss: 0.2833\n"
     ]
    },
    {
     "name": "stderr",
     "output_type": "stream",
     "text": [
      "                                                          \r"
     ]
    },
    {
     "name": "stdout",
     "output_type": "stream",
     "text": [
      "Epoch [16/20], Loss: 0.2777\n"
     ]
    },
    {
     "name": "stderr",
     "output_type": "stream",
     "text": [
      "                                                          \r"
     ]
    },
    {
     "name": "stdout",
     "output_type": "stream",
     "text": [
      "Epoch [17/20], Loss: 0.2758\n"
     ]
    },
    {
     "name": "stderr",
     "output_type": "stream",
     "text": [
      "                                                          \r"
     ]
    },
    {
     "name": "stdout",
     "output_type": "stream",
     "text": [
      "Epoch [18/20], Loss: 0.2665\n"
     ]
    },
    {
     "name": "stderr",
     "output_type": "stream",
     "text": [
      "                                                          \r"
     ]
    },
    {
     "name": "stdout",
     "output_type": "stream",
     "text": [
      "Epoch [19/20], Loss: 0.2701\n",
      "Early stopping at epoch 19\n",
      "\n",
      "Fold 2\n",
      "checkpoint directory created: ./model\n",
      "saving model version 0.0\n"
     ]
    },
    {
     "name": "stderr",
     "output_type": "stream",
     "text": [
      "                                                         \r"
     ]
    },
    {
     "name": "stdout",
     "output_type": "stream",
     "text": [
      "Epoch [1/20], Loss: 0.5807\n"
     ]
    },
    {
     "name": "stderr",
     "output_type": "stream",
     "text": [
      "                                                         \r"
     ]
    },
    {
     "name": "stdout",
     "output_type": "stream",
     "text": [
      "Epoch [2/20], Loss: 0.4435\n"
     ]
    },
    {
     "name": "stderr",
     "output_type": "stream",
     "text": [
      "                                                         \r"
     ]
    },
    {
     "name": "stdout",
     "output_type": "stream",
     "text": [
      "Epoch [3/20], Loss: 0.4072\n"
     ]
    },
    {
     "name": "stderr",
     "output_type": "stream",
     "text": [
      "                                                         \r"
     ]
    },
    {
     "name": "stdout",
     "output_type": "stream",
     "text": [
      "Epoch [4/20], Loss: 0.3529\n"
     ]
    },
    {
     "name": "stderr",
     "output_type": "stream",
     "text": [
      "                                                         \r"
     ]
    },
    {
     "name": "stdout",
     "output_type": "stream",
     "text": [
      "Epoch [5/20], Loss: 0.3521\n"
     ]
    },
    {
     "name": "stderr",
     "output_type": "stream",
     "text": [
      "                                                         \r"
     ]
    },
    {
     "name": "stdout",
     "output_type": "stream",
     "text": [
      "Epoch [6/20], Loss: 0.3231\n"
     ]
    },
    {
     "name": "stderr",
     "output_type": "stream",
     "text": [
      "                                                         \r"
     ]
    },
    {
     "name": "stdout",
     "output_type": "stream",
     "text": [
      "Epoch [7/20], Loss: 0.3231\n"
     ]
    },
    {
     "name": "stderr",
     "output_type": "stream",
     "text": [
      "                                                         \r"
     ]
    },
    {
     "name": "stdout",
     "output_type": "stream",
     "text": [
      "Epoch [8/20], Loss: 0.3002\n"
     ]
    },
    {
     "name": "stderr",
     "output_type": "stream",
     "text": [
      "                                                          \r"
     ]
    },
    {
     "name": "stdout",
     "output_type": "stream",
     "text": [
      "Epoch [9/20], Loss: 0.2985\n"
     ]
    },
    {
     "name": "stderr",
     "output_type": "stream",
     "text": [
      "                                                          \r"
     ]
    },
    {
     "name": "stdout",
     "output_type": "stream",
     "text": [
      "Epoch [10/20], Loss: 0.2939\n"
     ]
    },
    {
     "name": "stderr",
     "output_type": "stream",
     "text": [
      "                                                          \r"
     ]
    },
    {
     "name": "stdout",
     "output_type": "stream",
     "text": [
      "Epoch [11/20], Loss: 0.2862\n"
     ]
    },
    {
     "name": "stderr",
     "output_type": "stream",
     "text": [
      "                                                           \r"
     ]
    },
    {
     "name": "stdout",
     "output_type": "stream",
     "text": [
      "Epoch [12/20], Loss: 0.2836\n"
     ]
    },
    {
     "name": "stderr",
     "output_type": "stream",
     "text": [
      "                                                           \r"
     ]
    },
    {
     "name": "stdout",
     "output_type": "stream",
     "text": [
      "Epoch [13/20], Loss: 0.2711\n"
     ]
    },
    {
     "name": "stderr",
     "output_type": "stream",
     "text": [
      "                                                           \r"
     ]
    },
    {
     "name": "stdout",
     "output_type": "stream",
     "text": [
      "Epoch [14/20], Loss: 0.2655\n"
     ]
    },
    {
     "name": "stderr",
     "output_type": "stream",
     "text": [
      "                                                           \r"
     ]
    },
    {
     "name": "stdout",
     "output_type": "stream",
     "text": [
      "Epoch [15/20], Loss: 0.2481\n"
     ]
    },
    {
     "name": "stderr",
     "output_type": "stream",
     "text": [
      "                                                           \r"
     ]
    },
    {
     "name": "stdout",
     "output_type": "stream",
     "text": [
      "Epoch [16/20], Loss: 0.2516\n"
     ]
    },
    {
     "name": "stderr",
     "output_type": "stream",
     "text": [
      "                                                           \r"
     ]
    },
    {
     "name": "stdout",
     "output_type": "stream",
     "text": [
      "Epoch [17/20], Loss: 0.2496\n"
     ]
    },
    {
     "name": "stderr",
     "output_type": "stream",
     "text": [
      "                                                           \r"
     ]
    },
    {
     "name": "stdout",
     "output_type": "stream",
     "text": [
      "Epoch [18/20], Loss: 0.2445\n",
      "Early stopping at epoch 18\n",
      "\n",
      "Fold 3\n",
      "checkpoint directory created: ./model\n",
      "saving model version 0.0\n"
     ]
    },
    {
     "name": "stderr",
     "output_type": "stream",
     "text": [
      "                                                         \r"
     ]
    },
    {
     "name": "stdout",
     "output_type": "stream",
     "text": [
      "Epoch [1/20], Loss: 0.5822\n"
     ]
    },
    {
     "name": "stderr",
     "output_type": "stream",
     "text": [
      "                                                         \r"
     ]
    },
    {
     "name": "stdout",
     "output_type": "stream",
     "text": [
      "Epoch [2/20], Loss: 0.4589\n"
     ]
    },
    {
     "name": "stderr",
     "output_type": "stream",
     "text": [
      "                                                         \r"
     ]
    },
    {
     "name": "stdout",
     "output_type": "stream",
     "text": [
      "Epoch [3/20], Loss: 0.4193\n"
     ]
    },
    {
     "name": "stderr",
     "output_type": "stream",
     "text": [
      "                                                         \r"
     ]
    },
    {
     "name": "stdout",
     "output_type": "stream",
     "text": [
      "Epoch [4/20], Loss: 0.3731\n"
     ]
    },
    {
     "name": "stderr",
     "output_type": "stream",
     "text": [
      "                                                         \r"
     ]
    },
    {
     "name": "stdout",
     "output_type": "stream",
     "text": [
      "Epoch [5/20], Loss: 0.3542\n"
     ]
    },
    {
     "name": "stderr",
     "output_type": "stream",
     "text": [
      "                                                         \r"
     ]
    },
    {
     "name": "stdout",
     "output_type": "stream",
     "text": [
      "Epoch [6/20], Loss: 0.3396\n"
     ]
    },
    {
     "name": "stderr",
     "output_type": "stream",
     "text": [
      "                                                          \r"
     ]
    },
    {
     "name": "stdout",
     "output_type": "stream",
     "text": [
      "Epoch [7/20], Loss: 0.2995\n"
     ]
    },
    {
     "name": "stderr",
     "output_type": "stream",
     "text": [
      "                                                          \r"
     ]
    },
    {
     "name": "stdout",
     "output_type": "stream",
     "text": [
      "Epoch [8/20], Loss: 0.2973\n"
     ]
    },
    {
     "name": "stderr",
     "output_type": "stream",
     "text": [
      "                                                          \r"
     ]
    },
    {
     "name": "stdout",
     "output_type": "stream",
     "text": [
      "Epoch [9/20], Loss: 0.3140\n"
     ]
    },
    {
     "name": "stderr",
     "output_type": "stream",
     "text": [
      "                                                          \r"
     ]
    },
    {
     "name": "stdout",
     "output_type": "stream",
     "text": [
      "Epoch [10/20], Loss: 0.2918\n"
     ]
    },
    {
     "name": "stderr",
     "output_type": "stream",
     "text": [
      "                                                           \r"
     ]
    },
    {
     "name": "stdout",
     "output_type": "stream",
     "text": [
      "Epoch [11/20], Loss: 0.2933\n"
     ]
    },
    {
     "name": "stderr",
     "output_type": "stream",
     "text": [
      "                                                          \r"
     ]
    },
    {
     "name": "stdout",
     "output_type": "stream",
     "text": [
      "Epoch [12/20], Loss: 0.2793\n"
     ]
    },
    {
     "name": "stderr",
     "output_type": "stream",
     "text": [
      "                                                           \r"
     ]
    },
    {
     "name": "stdout",
     "output_type": "stream",
     "text": [
      "Epoch [13/20], Loss: 0.2845\n"
     ]
    },
    {
     "name": "stderr",
     "output_type": "stream",
     "text": [
      "                                                          \r"
     ]
    },
    {
     "name": "stdout",
     "output_type": "stream",
     "text": [
      "Epoch [14/20], Loss: 0.2679\n"
     ]
    },
    {
     "name": "stderr",
     "output_type": "stream",
     "text": [
      "                                                           \r"
     ]
    },
    {
     "name": "stdout",
     "output_type": "stream",
     "text": [
      "Epoch [15/20], Loss: 0.2749\n"
     ]
    },
    {
     "name": "stderr",
     "output_type": "stream",
     "text": [
      "                                                          \r"
     ]
    },
    {
     "name": "stdout",
     "output_type": "stream",
     "text": [
      "Epoch [16/20], Loss: 0.2579\n"
     ]
    },
    {
     "name": "stderr",
     "output_type": "stream",
     "text": [
      "                                                          \r"
     ]
    },
    {
     "name": "stdout",
     "output_type": "stream",
     "text": [
      "Epoch [17/20], Loss: 0.2534\n"
     ]
    },
    {
     "name": "stderr",
     "output_type": "stream",
     "text": [
      "                                                          \r"
     ]
    },
    {
     "name": "stdout",
     "output_type": "stream",
     "text": [
      "Epoch [18/20], Loss: 0.2614\n"
     ]
    },
    {
     "name": "stderr",
     "output_type": "stream",
     "text": [
      "                                                          \r"
     ]
    },
    {
     "name": "stdout",
     "output_type": "stream",
     "text": [
      "Epoch [19/20], Loss: 0.2472\n",
      "Early stopping at epoch 19\n",
      "\n",
      "Fold 4\n",
      "checkpoint directory created: ./model\n",
      "saving model version 0.0\n"
     ]
    },
    {
     "name": "stderr",
     "output_type": "stream",
     "text": [
      "                                                         \r"
     ]
    },
    {
     "name": "stdout",
     "output_type": "stream",
     "text": [
      "Epoch [1/20], Loss: 0.6078\n"
     ]
    },
    {
     "name": "stderr",
     "output_type": "stream",
     "text": [
      "                                                         \r"
     ]
    },
    {
     "name": "stdout",
     "output_type": "stream",
     "text": [
      "Epoch [2/20], Loss: 0.3965\n"
     ]
    },
    {
     "name": "stderr",
     "output_type": "stream",
     "text": [
      "                                                          \r"
     ]
    },
    {
     "name": "stdout",
     "output_type": "stream",
     "text": [
      "Epoch [3/20], Loss: 0.4008\n"
     ]
    },
    {
     "name": "stderr",
     "output_type": "stream",
     "text": [
      "                                                          \r"
     ]
    },
    {
     "name": "stdout",
     "output_type": "stream",
     "text": [
      "Epoch [4/20], Loss: 0.3518\n"
     ]
    },
    {
     "name": "stderr",
     "output_type": "stream",
     "text": [
      "                                                         \r"
     ]
    },
    {
     "name": "stdout",
     "output_type": "stream",
     "text": [
      "Epoch [5/20], Loss: 0.3331\n"
     ]
    },
    {
     "name": "stderr",
     "output_type": "stream",
     "text": [
      "                                                          \r"
     ]
    },
    {
     "name": "stdout",
     "output_type": "stream",
     "text": [
      "Epoch [6/20], Loss: 0.3154\n"
     ]
    },
    {
     "name": "stderr",
     "output_type": "stream",
     "text": [
      "                                                         \r"
     ]
    },
    {
     "name": "stdout",
     "output_type": "stream",
     "text": [
      "Epoch [7/20], Loss: 0.3167\n"
     ]
    },
    {
     "name": "stderr",
     "output_type": "stream",
     "text": [
      "                                                         \r"
     ]
    },
    {
     "name": "stdout",
     "output_type": "stream",
     "text": [
      "Epoch [8/20], Loss: 0.3028\n"
     ]
    },
    {
     "name": "stderr",
     "output_type": "stream",
     "text": [
      "                                                          \r"
     ]
    },
    {
     "name": "stdout",
     "output_type": "stream",
     "text": [
      "Epoch [9/20], Loss: 0.3145\n"
     ]
    },
    {
     "name": "stderr",
     "output_type": "stream",
     "text": [
      "                                                          \r"
     ]
    },
    {
     "name": "stdout",
     "output_type": "stream",
     "text": [
      "Epoch [10/20], Loss: 0.2924\n"
     ]
    },
    {
     "name": "stderr",
     "output_type": "stream",
     "text": [
      "                                                           \r"
     ]
    },
    {
     "name": "stdout",
     "output_type": "stream",
     "text": [
      "Epoch [11/20], Loss: 0.2932\n",
      "Early stopping at epoch 11\n",
      "\n",
      "Fold 5\n",
      "checkpoint directory created: ./model\n",
      "saving model version 0.0\n"
     ]
    },
    {
     "name": "stderr",
     "output_type": "stream",
     "text": [
      "                                                         \r"
     ]
    },
    {
     "name": "stdout",
     "output_type": "stream",
     "text": [
      "Epoch [1/20], Loss: 0.5864\n"
     ]
    },
    {
     "name": "stderr",
     "output_type": "stream",
     "text": [
      "                                                         \r"
     ]
    },
    {
     "name": "stdout",
     "output_type": "stream",
     "text": [
      "Epoch [2/20], Loss: 0.5043\n"
     ]
    },
    {
     "name": "stderr",
     "output_type": "stream",
     "text": [
      "                                                         \r"
     ]
    },
    {
     "name": "stdout",
     "output_type": "stream",
     "text": [
      "Epoch [3/20], Loss: 0.4545\n"
     ]
    },
    {
     "name": "stderr",
     "output_type": "stream",
     "text": [
      "                                                         \r"
     ]
    },
    {
     "name": "stdout",
     "output_type": "stream",
     "text": [
      "Epoch [4/20], Loss: 0.3762\n"
     ]
    },
    {
     "name": "stderr",
     "output_type": "stream",
     "text": [
      "                                                         \r"
     ]
    },
    {
     "name": "stdout",
     "output_type": "stream",
     "text": [
      "Epoch [5/20], Loss: 0.3864\n"
     ]
    },
    {
     "name": "stderr",
     "output_type": "stream",
     "text": [
      "                                                         \r"
     ]
    },
    {
     "name": "stdout",
     "output_type": "stream",
     "text": [
      "Epoch [6/20], Loss: 0.3806\n"
     ]
    },
    {
     "name": "stderr",
     "output_type": "stream",
     "text": [
      "                                                         \r"
     ]
    },
    {
     "name": "stdout",
     "output_type": "stream",
     "text": [
      "Epoch [7/20], Loss: 0.3460\n"
     ]
    },
    {
     "name": "stderr",
     "output_type": "stream",
     "text": [
      "                                                         \r"
     ]
    },
    {
     "name": "stdout",
     "output_type": "stream",
     "text": [
      "Epoch [8/20], Loss: 0.3450\n"
     ]
    },
    {
     "name": "stderr",
     "output_type": "stream",
     "text": [
      "                                                         \r"
     ]
    },
    {
     "name": "stdout",
     "output_type": "stream",
     "text": [
      "Epoch [9/20], Loss: 0.3338\n",
      "Early stopping at epoch 9\n",
      "\n",
      "Average PR-AUC (Train): 0.9843\n",
      "Average AUC (Train): 0.8997\n",
      "Average F1 (Train): 0.9409\n",
      "Average Recall (Train): 0.9956\n",
      "Average Precision (Train): 0.8920\n",
      "Average MCC (Train): 0.2785\n",
      "Average Accuracy (Train): 0.8902\n",
      "\n",
      "Average PR-AUC (Validation): 0.9420\n",
      "Average AUC (Validation): 0.7008\n",
      "Average F1 (Validation): 0.9306\n",
      "Average Recall (Validation): 0.9888\n",
      "Average Precision (Validation): 0.8799\n",
      "Average MCC (Validation): 0.0307\n",
      "Average Accuracy (Validation): 0.8715\n"
     ]
    }
   ],
   "source": [
    "import pandas as pd\n",
    "import numpy as np\n",
    "from rdkit import Chem\n",
    "from rdkit.Chem import AllChem, Descriptors\n",
    "import torch\n",
    "from torch.utils.data import DataLoader, TensorDataset\n",
    "from sklearn.model_selection import KFold\n",
    "from sklearn.metrics import precision_recall_curve, auc, f1_score, recall_score, precision_score, matthews_corrcoef, accuracy_score\n",
    "from kan import KAN  # Assuming the KAN model is defined in a module called kan\n",
    "from tqdm import tqdm  # Import tqdm for progress bars\n",
    "from sklearn.metrics import roc_curve\n",
    "\n",
    "\n",
    "\n",
    "\n",
    "# 数据预处理\n",
    "df = pd.read_csv('imputed_selected_features_Toxcity.csv')\n",
    "labels = df['Toxicity'].values\n",
    "smiles_list = df['SMILES'].tolist()\n",
    "\n",
    "# 函数：将SMILES转换为分子描述符和指纹\n",
    "def smiles_to_features(smiles):\n",
    "    mol = Chem.MolFromSmiles(smiles)\n",
    "    if mol is None:\n",
    "        return None\n",
    "    # 提取描述符\n",
    "    descriptors = [\n",
    "        Descriptors.MolWt(mol),  # 分子量\n",
    "        Descriptors.MolLogP(mol),  # LogP\n",
    "        Descriptors.NumHDonors(mol),  # 氢键供体数量\n",
    "        Descriptors.NumHAcceptors(mol)  # 氢键受体数量\n",
    "    ]\n",
    "    # 生成Morgan指纹\n",
    "    fingerprint = AllChem.GetMorganFingerprintAsBitVect(mol, 2, nBits=2048)\n",
    "    fingerprint_array = np.zeros((2048,))\n",
    "    Chem.DataStructs.ConvertToNumpyArray(fingerprint, fingerprint_array)\n",
    "    # 合并描述符和指纹\n",
    "    features = np.concatenate([descriptors, fingerprint_array])\n",
    "    return features\n",
    "\n",
    "# 将SMILES转换为特征\n",
    "features = []\n",
    "for smiles in smiles_list:\n",
    "    feature = smiles_to_features(smiles)\n",
    "    if feature is not None:\n",
    "        features.append(feature)\n",
    "\n",
    "# 转换为numpy数组\n",
    "features = np.array(features)\n",
    "X = np.array(features)\n",
    "y = labels\n",
    "\n",
    "# 设置设备为 CUDA 或 CPU\n",
    "device = torch.device('cuda' if torch.cuda.is_available() else 'cpu')\n",
    "\n",
    "# 将数据转换为 PyTorch 张量\n",
    "X_tensor = torch.tensor(X, dtype=torch.float32).to(device)\n",
    "y_tensor = torch.tensor(y, dtype=torch.float32).to(device)\n",
    "\n",
    "# 创建DataLoader函数\n",
    "def get_dataloader(X, y, batch_size):\n",
    "    dataset = TensorDataset(X, y)\n",
    "    dataloader = DataLoader(dataset, batch_size=batch_size, shuffle=True)\n",
    "    return dataloader\n",
    "\n",
    "# 训练 KAN 模型\n",
    "def train_kan(model, train_dataloader, optimizer, criterion, steps=20, patience=1):\n",
    "    model.train()\n",
    "    best_val_auc = -np.inf  # 最佳验证集AUC\n",
    "    epochs_without_improvement = 0  # 连续多少个epoch验证集性能没有提升\n",
    "    for epoch in range(steps):\n",
    "        running_loss = 0.0\n",
    "        for X_batch, y_batch in tqdm(train_dataloader, desc=f\"Epoch {epoch+1}/{steps}\", leave=False):\n",
    "            optimizer.zero_grad()\n",
    "            outputs = model(X_batch)\n",
    "            loss = criterion(outputs.squeeze(), y_batch)\n",
    "            loss.backward()\n",
    "            optimizer.step()\n",
    "            running_loss += loss.item()\n",
    "\n",
    "        print(f\"Epoch [{epoch+1}/{steps}], Loss: {running_loss/len(train_dataloader):.4f}\")\n",
    "        \n",
    "        # 每个epoch结束后，进行验证集评估\n",
    "        val_auc = evaluate_kan(model, val_dataloader)  # AUC评估\n",
    "        if val_auc > best_val_auc:\n",
    "            best_val_auc = val_auc\n",
    "            epochs_without_improvement = 0\n",
    "        else:\n",
    "            epochs_without_improvement += 1\n",
    "            if epochs_without_improvement >= patience:\n",
    "                print(f\"Early stopping at epoch {epoch+1}\")\n",
    "                break\n",
    "\n",
    "# 评估模型\n",
    "def evaluate_kan(model, val_dataloader):\n",
    "    model.eval()\n",
    "    val_auc_scores = []\n",
    "    with torch.no_grad():\n",
    "        for X_batch, y_batch in val_dataloader:\n",
    "            outputs = model(X_batch)\n",
    "            probs = torch.sigmoid(outputs).squeeze().cpu().numpy()\n",
    "            y_batch_cpu = y_batch.cpu().numpy()\n",
    "            precision, recall, _ = precision_recall_curve(y_batch_cpu, probs)\n",
    "            pr_auc = auc(recall, precision)\n",
    "            val_auc_scores.append(pr_auc)\n",
    "    return np.mean(val_auc_scores)\n",
    "\n",
    "\n",
    "# 5折交叉验证\n",
    "kf = KFold(n_splits=5, shuffle=True, random_state=42)\n",
    "pr_auc_train_list, auc_train_list = [], []\n",
    "f1_train_list, recall_train_list = [], []\n",
    "precision_train_list, mcc_train_list = [], []\n",
    "accuracy_train_list, pr_auc_val_list = [], []\n",
    "auc_val_list, f1_val_list = [], []\n",
    "recall_val_list, precision_val_list = [], []\n",
    "mcc_val_list, accuracy_val_list = [], []\n",
    "\n",
    "# 交叉验证训练与评估\n",
    "for fold, (train_idx, val_idx) in enumerate(kf.split(X_tensor)):\n",
    "    print(f\"\\nFold {fold + 1}\")\n",
    "\n",
    "    # 获取当前fold的训练集和验证集\n",
    "    X_train_fold, X_val_fold = X_tensor[train_idx], X_tensor[val_idx]\n",
    "    y_train_fold, y_val_fold = y_tensor[train_idx], y_tensor[val_idx]\n",
    "\n",
    "    # 创建 DataLoader\n",
    "    train_dataloader = get_dataloader(X_train_fold, y_train_fold, batch_size=128)  # 增加batch size\n",
    "    val_dataloader = get_dataloader(X_val_fold, y_val_fold, batch_size=128)\n",
    "\n",
    "    # 创建 KAN 模型\n",
    "    model = KAN(width=[2048, 100, 1], grid=3, k=3, seed=42, device=device)\n",
    "\n",
    "    # 使用 AdamW 优化器\n",
    "    optimizer = torch.optim.AdamW(model.parameters(), lr=0.001)\n",
    "    criterion = torch.nn.BCEWithLogitsLoss()\n",
    "\n",
    "    # 训练 KAN 模型\n",
    "    train_kan(model, train_dataloader, optimizer, criterion, steps=20, patience=5)\n",
    "\n",
    "    # 评估模型（训练集和验证集）\n",
    "    for data, target in [(X_train_fold, y_train_fold), (X_val_fold, y_val_fold)]:\n",
    "        model.eval()\n",
    "        with torch.no_grad():\n",
    "            outputs = model(data)\n",
    "            probs = torch.sigmoid(outputs).squeeze().cpu().numpy()\n",
    "            target_cpu = target.cpu().numpy()\n",
    "            \n",
    "            # 计算 AUC 和其他指标\n",
    "            precision, recall, _ = precision_recall_curve(target_cpu, probs)\n",
    "            pr_auc = auc(recall, precision)\n",
    "            pr_auc_train_list.append(pr_auc) if data is X_train_fold else pr_auc_val_list.append(pr_auc)\n",
    "            \n",
    "            fpr, tpr, _ = roc_curve(target_cpu, probs)\n",
    "            auc_val = auc(fpr, tpr)\n",
    "            auc_train_list.append(auc_val) if data is X_train_fold else auc_val_list.append(auc_val)\n",
    "            \n",
    "            f1 = f1_score(target_cpu, (probs > 0.5).astype(int))\n",
    "            f1_train_list.append(f1) if data is X_train_fold else f1_val_list.append(f1)\n",
    "            \n",
    "            recall_val = recall_score(target_cpu, (probs > 0.5).astype(int))\n",
    "            recall_train_list.append(recall_val) if data is X_train_fold else recall_val_list.append(recall_val)\n",
    "            \n",
    "            precision_val = precision_score(target_cpu, (probs > 0.5).astype(int))\n",
    "            precision_train_list.append(precision_val) if data is X_train_fold else precision_val_list.append(precision_val)\n",
    "            \n",
    "            mcc_val = matthews_corrcoef(target_cpu, (probs > 0.5).astype(int))\n",
    "            mcc_train_list.append(mcc_val) if data is X_train_fold else mcc_val_list.append(mcc_val)\n",
    "            \n",
    "            accuracy_val = accuracy_score(target_cpu, (probs > 0.5).astype(int))\n",
    "            accuracy_train_list.append(accuracy_val) if data is X_train_fold else accuracy_val_list.append(accuracy_val)\n",
    "\n",
    "# 计算五折平均的评估指标（训练集和验证集）\n",
    "print(f\"\\nAverage PR-AUC (Train): {np.mean(pr_auc_train_list):.4f}\")\n",
    "print(f\"Average AUC (Train): {np.mean(auc_train_list):.4f}\")\n",
    "print(f\"Average F1 (Train): {np.mean(f1_train_list):.4f}\")\n",
    "print(f\"Average Recall (Train): {np.mean(recall_train_list):.4f}\")\n",
    "print(f\"Average Precision (Train): {np.mean(precision_train_list):.4f}\")\n",
    "print(f\"Average MCC (Train): {np.mean(mcc_train_list):.4f}\")\n",
    "print(f\"Average Accuracy (Train): {np.mean(accuracy_train_list):.4f}\")\n",
    "\n",
    "print(f\"\\nAverage PR-AUC (Validation): {np.mean(pr_auc_val_list):.4f}\")\n",
    "print(f\"Average AUC (Validation): {np.mean(auc_val_list):.4f}\")\n",
    "print(f\"Average F1 (Validation): {np.mean(f1_val_list):.4f}\")\n",
    "print(f\"Average Recall (Validation): {np.mean(recall_val_list):.4f}\")\n",
    "print(f\"Average Precision (Validation): {np.mean(precision_val_list):.4f}\")\n",
    "print(f\"Average MCC (Validation): {np.mean(mcc_val_list):.4f}\")\n",
    "print(f\"Average Accuracy (Validation): {np.mean(accuracy_val_list):.4f}\")\n"
   ]
  },
  {
   "cell_type": "code",
   "execution_count": null,
   "id": "617b3f6c-c187-4eac-889c-b509525bd536",
   "metadata": {},
   "outputs": [],
   "source": []
  },
  {
   "cell_type": "code",
   "execution_count": null,
   "id": "50d0e5d2-6756-4d9a-9735-04aee0c3dfee",
   "metadata": {},
   "outputs": [],
   "source": [
    "Average PR-AUC (Train): 0.9843\n",
    "Average AUC (Train): 0.8997\n",
    "Average F1 (Train): 0.9409\n",
    "Average Recall (Train): 0.9956\n",
    "Average Precision (Train): 0.8920\n",
    "Average MCC (Train): 0.2785\n",
    "Average Accuracy (Train): 0.8902\n",
    "\n",
    "Average PR-AUC (Validation): 0.9420\n",
    "Average AUC (Validation): 0.7008\n",
    "Average F1 (Validation): 0.9306\n",
    "Average Recall (Validation): 0.9888\n",
    "Average Precision (Validation): 0.8799\n",
    "Average MCC (Validation): 0.0307\n",
    "Average Accuracy (Validation): 0.8715"
   ]
  },
  {
   "cell_type": "code",
   "execution_count": null,
   "id": "693eed5f-fa23-4177-a36b-d7296da991e5",
   "metadata": {},
   "outputs": [],
   "source": []
  },
  {
   "cell_type": "code",
   "execution_count": null,
   "id": "3244db51-cabc-448d-a2d5-45420a9eb512",
   "metadata": {},
   "outputs": [],
   "source": []
  },
  {
   "cell_type": "code",
   "execution_count": null,
   "id": "179c708e-65c4-4b40-8d7f-716bb0bdc236",
   "metadata": {},
   "outputs": [],
   "source": []
  },
  {
   "cell_type": "code",
   "execution_count": null,
   "id": "26bcee5e-39cc-45ce-af54-e50bd723c9b2",
   "metadata": {},
   "outputs": [],
   "source": []
  }
 ],
 "metadata": {
  "kernelspec": {
   "display_name": "Python 3 (ipykernel)",
   "language": "python",
   "name": "python3"
  },
  "language_info": {
   "codemirror_mode": {
    "name": "ipython",
    "version": 3
   },
   "file_extension": ".py",
   "mimetype": "text/x-python",
   "name": "python",
   "nbconvert_exporter": "python",
   "pygments_lexer": "ipython3",
   "version": "3.12.2"
  }
 },
 "nbformat": 4,
 "nbformat_minor": 5
}
