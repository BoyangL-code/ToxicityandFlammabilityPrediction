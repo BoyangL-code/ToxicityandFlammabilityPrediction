{
 "cells": [
  {
   "cell_type": "code",
   "execution_count": 2,
   "id": "7484b761-dc13-4562-bdd5-1077d23735a2",
   "metadata": {},
   "outputs": [],
   "source": [
    "import warnings\n",
    "from rdkit import RDLogger\n",
    "\n",
    "# 屏蔽 RDKit 警告\n",
    "RDLogger.DisableLog('rdApp.*')\n",
    "\n",
    "# 或屏蔽所有 Python 警告\n",
    "warnings.filterwarnings(\"ignore\")\n",
    "# 屏蔽 LightGBM 警告\n",
    "warnings.filterwarnings(\"ignore\", category=UserWarning, module=\"lightgbm\")"
   ]
  },
  {
   "cell_type": "code",
   "execution_count": null,
   "id": "e137e977-a71c-4871-a8e2-f6bfa15fbd61",
   "metadata": {},
   "outputs": [],
   "source": []
  },
  {
   "cell_type": "code",
   "execution_count": null,
   "id": "805100ba-a4e3-46ee-af02-5bb51c3fcc93",
   "metadata": {},
   "outputs": [],
   "source": []
  },
  {
   "cell_type": "code",
   "execution_count": null,
   "id": "2071ec61-3442-4b3c-80ee-3d7b35b542c8",
   "metadata": {},
   "outputs": [],
   "source": []
  },
  {
   "cell_type": "code",
   "execution_count": null,
   "id": "bd2bad98-7e6e-457f-a9cf-8e0ceb38cd85",
   "metadata": {},
   "outputs": [],
   "source": []
  },
  {
   "cell_type": "code",
   "execution_count": 10,
   "id": "bb342f41-672a-4e66-957e-e317512d8611",
   "metadata": {},
   "outputs": [],
   "source": [
    "import torch\n",
    "from sklearn.model_selection import StratifiedKFold\n",
    "import pandas as pd\n",
    "import numpy as np\n",
    "from rdkit import Chem\n",
    "from rdkit.Chem import AllChem\n",
    "from sklearn.metrics import precision_recall_curve, auc, f1_score, precision_score, recall_score, accuracy_score\n",
    "from xgboost import XGBClassifier\n",
    "import joblib\n",
    "from tqdm import tqdm\n",
    "from rdkit.Chem import Descriptors, AllChem\n",
    "\n",
    "from sklearn.metrics import roc_curve\n",
    "\n",
    "\n",
    "\n",
    "# 数据预处理\n",
    "df = pd.read_csv('imputed_selected_features_Toxcity.csv')\n",
    "labels = df['Toxicity'].values\n",
    "smiles_list = df['SMILES'].tolist()\n",
    "\n",
    "# 函数：将SMILES转换为分子描述符和指纹\n",
    "def smiles_to_features(smiles):\n",
    "    mol = Chem.MolFromSmiles(smiles)\n",
    "    if mol is None:\n",
    "        return None\n",
    "    # 提取描述符\n",
    "    descriptors = [\n",
    "        Descriptors.MolWt(mol),  # 分子量\n",
    "        Descriptors.MolLogP(mol),  # LogP\n",
    "        Descriptors.NumHDonors(mol),  # 氢键供体数量\n",
    "        Descriptors.NumHAcceptors(mol)  # 氢键受体数量\n",
    "    ]\n",
    "    # 生成Morgan指纹\n",
    "    fingerprint = AllChem.GetMorganFingerprintAsBitVect(mol, 2, nBits=2048)\n",
    "    fingerprint_array = np.zeros((2048,))\n",
    "    Chem.DataStructs.ConvertToNumpyArray(fingerprint, fingerprint_array)\n",
    "    # 合并描述符和指纹\n",
    "    features = np.concatenate([descriptors, fingerprint_array])\n",
    "    return features\n",
    "\n",
    "# 将SMILES转换为特征\n",
    "features = []\n",
    "for smiles in smiles_list:\n",
    "    feature = smiles_to_features(smiles)\n",
    "    if feature is not None:\n",
    "        features.append(feature)\n",
    "\n",
    "# 转换为numpy数组\n",
    "features = np.array(features)\n",
    "\n",
    "y = labels\n",
    "X = np.array(features)\n",
    "\n",
    "# 直接使用最优参数进行五折交叉验证\n",
    "def train_evaluate_with_best_params(model_name, model_class, best_params, X, y):\n",
    "    # 创建模型并设置最优参数\n",
    "    model = model_class(**best_params)\n",
    "\n",
    "    # 五折交叉验证\n",
    "    skf = StratifiedKFold(n_splits=5, shuffle=True, random_state=42)\n",
    "    \n",
    "    # 存储各个折的评价指标\n",
    "    metrics_train = {'PR-AUC': [], 'AU-ROC': [], 'ACC': [], 'PREC': [], 'REC': [], 'F1': []}\n",
    "    metrics_test = {'PR-AUC': [], 'AU-ROC': [], 'ACC': [], 'PREC': [], 'REC': [], 'F1': []}\n",
    "    \n",
    "    # 使用 tqdm 包裹五折交叉验证的每一折\n",
    "    for fold, (train_idx, val_idx) in enumerate(tqdm(skf.split(X, y), total=5, desc=f\"Training {model_name}\")):\n",
    "        X_train, X_val = X[train_idx], X[val_idx]\n",
    "        y_train, y_val = y[train_idx], y[val_idx]\n",
    "\n",
    "        model.fit(X_train, y_train)\n",
    "        \n",
    "        # 训练集指标\n",
    "        y_prob_train = model.predict_proba(X_train)[:, 1]\n",
    "        precision_train, recall_train, _ = precision_recall_curve(y_train, y_prob_train)\n",
    "        pr_auc_train = auc(recall_train, precision_train)\n",
    "        metrics_train['PR-AUC'].append(pr_auc_train)\n",
    "\n",
    "        fpr_train, tpr_train, _ = roc_curve(y_train, y_prob_train)\n",
    "        auc_train = auc(fpr_train, tpr_train)\n",
    "        metrics_train['AU-ROC'].append(auc_train)\n",
    "\n",
    "        accuracy_train = accuracy_score(y_train, (y_prob_train > 0.5).astype(int))\n",
    "        metrics_train['ACC'].append(accuracy_train)\n",
    "\n",
    "        precision_train_val = precision_score(y_train, (y_prob_train > 0.5).astype(int))\n",
    "        metrics_train['PREC'].append(precision_train_val)\n",
    "\n",
    "        recall_train_val = recall_score(y_train, (y_prob_train > 0.5).astype(int))\n",
    "        metrics_train['REC'].append(recall_train_val)\n",
    "\n",
    "        f1_train_val = f1_score(y_train, (y_prob_train > 0.5).astype(int))\n",
    "        metrics_train['F1'].append(f1_train_val)\n",
    "\n",
    "        # 测试集指标\n",
    "        y_prob_test = model.predict_proba(X_val)[:, 1]\n",
    "        precision_test, recall_test, _ = precision_recall_curve(y_val, y_prob_test)\n",
    "        pr_auc_test = auc(recall_test, precision_test)\n",
    "        metrics_test['PR-AUC'].append(pr_auc_test)\n",
    "\n",
    "        fpr_test, tpr_test, _ = roc_curve(y_val, y_prob_test)\n",
    "        auc_test = auc(fpr_test, tpr_test)\n",
    "        metrics_test['AU-ROC'].append(auc_test)\n",
    "\n",
    "        accuracy_test = accuracy_score(y_val, (y_prob_test > 0.5).astype(int))\n",
    "        metrics_test['ACC'].append(accuracy_test)\n",
    "\n",
    "        precision_test_val = precision_score(y_val, (y_prob_test > 0.5).astype(int))\n",
    "        metrics_test['PREC'].append(precision_test_val)\n",
    "\n",
    "        recall_test_val = recall_score(y_val, (y_prob_test > 0.5).astype(int))\n",
    "        metrics_test['REC'].append(recall_test_val)\n",
    "\n",
    "        f1_test_val = f1_score(y_val, (y_prob_test > 0.5).astype(int))\n",
    "        metrics_test['F1'].append(f1_test_val)\n",
    "\n",
    "        # 输出当前折的训练集和测试集评价指标\n",
    "        print(f\"Fold {fold + 1} - Train metrics:\")\n",
    "        for metric, values in metrics_train.items():\n",
    "            print(f\"  {metric}: {values[-1]:.4f}\")\n",
    "        \n",
    "        print(f\"Fold {fold + 1} - Test metrics:\")\n",
    "        for metric, values in metrics_test.items():\n",
    "            print(f\"  {metric}: {values[-1]:.4f}\")\n",
    "        print()\n",
    "\n",
    "        # 将训练集和测试集的结果合并成一个 DataFrame\n",
    "    results = {\n",
    "        'Metric': ['PR-AUC', 'AU-ROC', 'F1', 'REC', 'PREC', 'ACC'],\n",
    "        'Train': [\n",
    "            np.mean(metrics_train['PR-AUC']),\n",
    "            np.mean(metrics_train['AU-ROC']),\n",
    "            np.mean(metrics_train['F1']),\n",
    "            np.mean(metrics_train['REC']),\n",
    "            np.mean(metrics_train['PREC']),\n",
    "            np.mean(metrics_train['ACC'])\n",
    "        ],\n",
    "        'Test': [\n",
    "            np.mean(metrics_test['PR-AUC']),\n",
    "            np.mean(metrics_test['AU-ROC']),\n",
    "            np.mean(metrics_test['F1']),\n",
    "            np.mean(metrics_test['REC']),\n",
    "            np.mean(metrics_test['PREC']),\n",
    "            np.mean(metrics_test['ACC'])\n",
    "        ]\n",
    "    }\n",
    "    \n",
    "    df_results = pd.DataFrame(results)\n",
    "\n",
    "    # 保存结果到CSV文件\n",
    "    df_results.to_csv(f'{model_name}_evaluation_metrics.csv', index=False)\n",
    "    print(f\"Metrics saved to {model_name}_evaluation_metrics.csv\")\n",
    "\n",
    "\n",
    "\n",
    "\n",
    "    \n",
    "    # 输出每个评价指标的训练集和测试集平均值\n",
    "    print(f'Average Train PR AUC: {np.mean(metrics_train[\"PR-AUC\"]):.4f}')\n",
    "    print(f'Average Test PR AUC: {np.mean(metrics_test[\"PR-AUC\"]):.4f}')\n",
    "\n",
    "    print(f'Average Train AU-ROC: {np.mean(metrics_train[\"AU-ROC\"]):.4f}')\n",
    "    print(f'Average Test AU-ROC: {np.mean(metrics_test[\"AU-ROC\"]):.4f}')\n",
    "\n",
    "    print(f'Average Train Accuracy: {np.mean(metrics_train[\"ACC\"]):.4f}')\n",
    "    print(f'Average Test Accuracy: {np.mean(metrics_test[\"ACC\"]):.4f}')\n",
    "\n",
    "    print(f'Average Train Precision: {np.mean(metrics_train[\"PREC\"]):.4f}')\n",
    "    print(f'Average Test Precision: {np.mean(metrics_test[\"PREC\"]):.4f}')\n",
    "\n",
    "    print(f'Average Train Recall: {np.mean(metrics_train[\"REC\"]):.4f}')\n",
    "    print(f'Average Test Recall: {np.mean(metrics_test[\"REC\"]):.4f}')\n",
    "\n",
    "    print(f'Average Train F1: {np.mean(metrics_train[\"F1\"]):.4f}')\n",
    "    print(f'Average Test F1: {np.mean(metrics_test[\"F1\"]):.4f}')\n",
    "\n",
    "\n"
   ]
  },
  {
   "cell_type": "code",
   "execution_count": 8,
   "id": "cb5642ed-c006-48a5-a52f-dcd3e07321f4",
   "metadata": {},
   "outputs": [
    {
     "name": "stderr",
     "output_type": "stream",
     "text": [
      "Training XGBoost:  20%|██        | 1/5 [00:42<02:51, 42.90s/it]"
     ]
    },
    {
     "name": "stdout",
     "output_type": "stream",
     "text": [
      "Fold 1 - Train metrics:\n",
      "  PR-AUC: 0.9953\n",
      "  AU-ROC: 0.9674\n",
      "  ACC: 0.9293\n",
      "  PREC: 0.9336\n",
      "  REC: 0.9899\n",
      "  F1: 0.9609\n",
      "Fold 1 - Test metrics:\n",
      "  PR-AUC: 0.9614\n",
      "  AU-ROC: 0.7539\n",
      "  ACC: 0.8732\n",
      "  PREC: 0.8849\n",
      "  REC: 0.9840\n",
      "  F1: 0.9318\n",
      "\n"
     ]
    },
    {
     "name": "stderr",
     "output_type": "stream",
     "text": [
      "Training XGBoost:  40%|████      | 2/5 [01:29<02:15, 45.31s/it]"
     ]
    },
    {
     "name": "stdout",
     "output_type": "stream",
     "text": [
      "Fold 2 - Train metrics:\n",
      "  PR-AUC: 0.9939\n",
      "  AU-ROC: 0.9627\n",
      "  ACC: 0.9276\n",
      "  PREC: 0.9254\n",
      "  REC: 0.9980\n",
      "  F1: 0.9603\n",
      "Fold 2 - Test metrics:\n",
      "  PR-AUC: 0.9558\n",
      "  AU-ROC: 0.7569\n",
      "  ACC: 0.8732\n",
      "  PREC: 0.8849\n",
      "  REC: 0.9840\n",
      "  F1: 0.9318\n",
      "\n"
     ]
    },
    {
     "name": "stderr",
     "output_type": "stream",
     "text": [
      "Training XGBoost:  60%|██████    | 3/5 [02:08<01:24, 42.20s/it]"
     ]
    },
    {
     "name": "stdout",
     "output_type": "stream",
     "text": [
      "Fold 3 - Train metrics:\n",
      "  PR-AUC: 0.9948\n",
      "  AU-ROC: 0.9642\n",
      "  ACC: 0.9382\n",
      "  PREC: 0.9461\n",
      "  REC: 0.9859\n",
      "  F1: 0.9656\n",
      "Fold 3 - Test metrics:\n",
      "  PR-AUC: 0.9408\n",
      "  AU-ROC: 0.6909\n",
      "  ACC: 0.8732\n",
      "  PREC: 0.8897\n",
      "  REC: 0.9758\n",
      "  F1: 0.9308\n",
      "\n"
     ]
    },
    {
     "name": "stderr",
     "output_type": "stream",
     "text": [
      "Training XGBoost:  80%|████████  | 4/5 [02:46<00:40, 40.54s/it]"
     ]
    },
    {
     "name": "stdout",
     "output_type": "stream",
     "text": [
      "Fold 4 - Train metrics:\n",
      "  PR-AUC: 0.9964\n",
      "  AU-ROC: 0.9740\n",
      "  ACC: 0.9330\n",
      "  PREC: 0.9373\n",
      "  REC: 0.9900\n",
      "  F1: 0.9629\n",
      "Fold 4 - Test metrics:\n",
      "  PR-AUC: 0.9456\n",
      "  AU-ROC: 0.6978\n",
      "  ACC: 0.8723\n",
      "  PREC: 0.8841\n",
      "  REC: 0.9839\n",
      "  F1: 0.9313\n",
      "\n"
     ]
    },
    {
     "name": "stderr",
     "output_type": "stream",
     "text": [
      "Training XGBoost: 100%|██████████| 5/5 [03:26<00:00, 41.30s/it]"
     ]
    },
    {
     "name": "stdout",
     "output_type": "stream",
     "text": [
      "Fold 5 - Train metrics:\n",
      "  PR-AUC: 0.9954\n",
      "  AU-ROC: 0.9679\n",
      "  ACC: 0.9295\n",
      "  PREC: 0.9321\n",
      "  REC: 0.9920\n",
      "  F1: 0.9611\n",
      "Fold 5 - Test metrics:\n",
      "  PR-AUC: 0.9602\n",
      "  AU-ROC: 0.7687\n",
      "  ACC: 0.9078\n",
      "  PREC: 0.9111\n",
      "  REC: 0.9919\n",
      "  F1: 0.9498\n",
      "\n",
      "Average Train PR AUC: 0.9952\n",
      "Average Test PR AUC: 0.9528\n",
      "Average Train AU-ROC: 0.9672\n",
      "Average Test AU-ROC: 0.7336\n",
      "Average Train Accuracy: 0.9315\n",
      "Average Test Accuracy: 0.8800\n",
      "Average Train Precision: 0.9349\n",
      "Average Test Precision: 0.8909\n",
      "Average Train Recall: 0.9912\n",
      "Average Test Recall: 0.9839\n",
      "Average Train F1: 0.9622\n",
      "Average Test F1: 0.9351\n"
     ]
    },
    {
     "name": "stderr",
     "output_type": "stream",
     "text": [
      "\n"
     ]
    }
   ],
   "source": [
    "# 最优参数\n",
    "best_params_xgb = {\n",
    "    'n_estimators': 10,\n",
    "    'max_depth': 27,\n",
    "    'learning_rate': 0.0809714150972509,\n",
    "    'eval_metric': 'error'  \n",
    "}\n",
    "\n",
    "# 训练并评估 XGBoost 模型\n",
    "train_evaluate_with_best_params(\"XGBoost\", XGBClassifier, best_params_xgb, X, y)"
   ]
  },
  {
   "cell_type": "code",
   "execution_count": 11,
   "id": "a566550d-a468-448a-bc32-f7dd76b431fc",
   "metadata": {},
   "outputs": [
    {
     "name": "stderr",
     "output_type": "stream",
     "text": [
      "Training RandomForest:  20%|██        | 1/5 [00:02<00:09,  2.43s/it]"
     ]
    },
    {
     "name": "stdout",
     "output_type": "stream",
     "text": [
      "Fold 1 - Train metrics:\n",
      "  PR-AUC: 0.9993\n",
      "  AU-ROC: 0.9948\n",
      "  ACC: 0.9205\n",
      "  PREC: 0.9185\n",
      "  REC: 0.9980\n",
      "  F1: 0.9566\n",
      "Fold 1 - Test metrics:\n",
      "  PR-AUC: 0.9555\n",
      "  AU-ROC: 0.7581\n",
      "  ACC: 0.8873\n",
      "  PREC: 0.8865\n",
      "  REC: 1.0000\n",
      "  F1: 0.9398\n",
      "\n"
     ]
    },
    {
     "name": "stderr",
     "output_type": "stream",
     "text": [
      "Training RandomForest:  40%|████      | 2/5 [00:04<00:07,  2.47s/it]"
     ]
    },
    {
     "name": "stdout",
     "output_type": "stream",
     "text": [
      "Fold 2 - Train metrics:\n",
      "  PR-AUC: 0.9995\n",
      "  AU-ROC: 0.9960\n",
      "  ACC: 0.9170\n",
      "  PREC: 0.9136\n",
      "  REC: 1.0000\n",
      "  F1: 0.9549\n",
      "Fold 2 - Test metrics:\n",
      "  PR-AUC: 0.9497\n",
      "  AU-ROC: 0.7539\n",
      "  ACC: 0.8803\n",
      "  PREC: 0.8857\n",
      "  REC: 0.9920\n",
      "  F1: 0.9358\n",
      "\n"
     ]
    },
    {
     "name": "stderr",
     "output_type": "stream",
     "text": [
      "Training RandomForest:  60%|██████    | 3/5 [00:07<00:04,  2.42s/it]"
     ]
    },
    {
     "name": "stdout",
     "output_type": "stream",
     "text": [
      "Fold 3 - Train metrics:\n",
      "  PR-AUC: 0.9991\n",
      "  AU-ROC: 0.9933\n",
      "  ACC: 0.9170\n",
      "  PREC: 0.9153\n",
      "  REC: 0.9980\n",
      "  F1: 0.9549\n",
      "Fold 3 - Test metrics:\n",
      "  PR-AUC: 0.9335\n",
      "  AU-ROC: 0.6886\n",
      "  ACC: 0.8732\n",
      "  PREC: 0.8732\n",
      "  REC: 1.0000\n",
      "  F1: 0.9323\n",
      "\n"
     ]
    },
    {
     "name": "stderr",
     "output_type": "stream",
     "text": [
      "Training RandomForest:  80%|████████  | 4/5 [00:09<00:02,  2.41s/it]"
     ]
    },
    {
     "name": "stdout",
     "output_type": "stream",
     "text": [
      "Fold 4 - Train metrics:\n",
      "  PR-AUC: 0.9992\n",
      "  AU-ROC: 0.9944\n",
      "  ACC: 0.9136\n",
      "  PREC: 0.9104\n",
      "  REC: 1.0000\n",
      "  F1: 0.9531\n",
      "Fold 4 - Test metrics:\n",
      "  PR-AUC: 0.9430\n",
      "  AU-ROC: 0.7633\n",
      "  ACC: 0.8794\n",
      "  PREC: 0.8794\n",
      "  REC: 1.0000\n",
      "  F1: 0.9358\n",
      "\n"
     ]
    },
    {
     "name": "stderr",
     "output_type": "stream",
     "text": [
      "Training RandomForest: 100%|██████████| 5/5 [00:12<00:00,  2.42s/it]"
     ]
    },
    {
     "name": "stdout",
     "output_type": "stream",
     "text": [
      "Fold 5 - Train metrics:\n",
      "  PR-AUC: 0.9992\n",
      "  AU-ROC: 0.9943\n",
      "  ACC: 0.9101\n",
      "  PREC: 0.9071\n",
      "  REC: 1.0000\n",
      "  F1: 0.9513\n",
      "Fold 5 - Test metrics:\n",
      "  PR-AUC: 0.9718\n",
      "  AU-ROC: 0.8283\n",
      "  ACC: 0.8794\n",
      "  PREC: 0.8794\n",
      "  REC: 1.0000\n",
      "  F1: 0.9358\n",
      "\n",
      "Metrics saved to RandomForest_evaluation_metrics.csv\n",
      "Average Train PR AUC: 0.9992\n",
      "Average Test PR AUC: 0.9507\n",
      "Average Train AU-ROC: 0.9946\n",
      "Average Test AU-ROC: 0.7584\n",
      "Average Train Accuracy: 0.9156\n",
      "Average Test Accuracy: 0.8799\n",
      "Average Train Precision: 0.9130\n",
      "Average Test Precision: 0.8809\n",
      "Average Train Recall: 0.9992\n",
      "Average Test Recall: 0.9984\n",
      "Average Train F1: 0.9541\n",
      "Average Test F1: 0.9359\n"
     ]
    },
    {
     "name": "stderr",
     "output_type": "stream",
     "text": [
      "\n"
     ]
    }
   ],
   "source": [
    "\n",
    "from sklearn.ensemble import RandomForestClassifier\n",
    "\n",
    "# 最优参数（随机森林）\n",
    "best_params_rf = {\n",
    "    'n_estimators': 659,\n",
    "    'max_depth': 32,\n",
    "    'min_samples_split': 0.021676009502668372\n",
    "}\n",
    "\n",
    "\n",
    "\n",
    "# 训练并评估 RandomForest 模型\n",
    "train_evaluate_with_best_params(\"RandomForest\", RandomForestClassifier, best_params_rf, X, y)\n"
   ]
  },
  {
   "cell_type": "code",
   "execution_count": 14,
   "id": "bb55d016-0855-4dd5-b15e-b2abb43f9a2a",
   "metadata": {},
   "outputs": [
    {
     "name": "stderr",
     "output_type": "stream",
     "text": [
      "Training LightGBM:  20%|██        | 1/5 [00:00<00:02,  1.48it/s]"
     ]
    },
    {
     "name": "stdout",
     "output_type": "stream",
     "text": [
      "Fold 1 - Train metrics:\n",
      "  PR-AUC: 1.0000\n",
      "  AU-ROC: 1.0000\n",
      "  ACC: 1.0000\n",
      "  PREC: 1.0000\n",
      "  REC: 1.0000\n",
      "  F1: 1.0000\n",
      "Fold 1 - Test metrics:\n",
      "  PR-AUC: 0.9486\n",
      "  AU-ROC: 0.7534\n",
      "  ACC: 0.8592\n",
      "  PREC: 0.9008\n",
      "  REC: 0.9440\n",
      "  F1: 0.9219\n",
      "\n"
     ]
    },
    {
     "name": "stderr",
     "output_type": "stream",
     "text": [
      "Training LightGBM:  40%|████      | 2/5 [00:01<00:02,  1.19it/s]"
     ]
    },
    {
     "name": "stdout",
     "output_type": "stream",
     "text": [
      "Fold 2 - Train metrics:\n",
      "  PR-AUC: 1.0000\n",
      "  AU-ROC: 1.0000\n",
      "  ACC: 0.9982\n",
      "  PREC: 0.9980\n",
      "  REC: 1.0000\n",
      "  F1: 0.9990\n",
      "Fold 2 - Test metrics:\n",
      "  PR-AUC: 0.9539\n",
      "  AU-ROC: 0.7713\n",
      "  ACC: 0.8662\n",
      "  PREC: 0.8897\n",
      "  REC: 0.9680\n",
      "  F1: 0.9272\n",
      "\n"
     ]
    },
    {
     "name": "stderr",
     "output_type": "stream",
     "text": [
      "Training LightGBM:  60%|██████    | 3/5 [00:02<00:01,  1.44it/s]"
     ]
    },
    {
     "name": "stdout",
     "output_type": "stream",
     "text": [
      "Fold 3 - Train metrics:\n",
      "  PR-AUC: 1.0000\n",
      "  AU-ROC: 1.0000\n",
      "  ACC: 0.9982\n",
      "  PREC: 0.9980\n",
      "  REC: 1.0000\n",
      "  F1: 0.9990\n",
      "Fold 3 - Test metrics:\n",
      "  PR-AUC: 0.9422\n",
      "  AU-ROC: 0.7437\n",
      "  ACC: 0.8662\n",
      "  PREC: 0.8832\n",
      "  REC: 0.9758\n",
      "  F1: 0.9272\n",
      "\n"
     ]
    },
    {
     "name": "stderr",
     "output_type": "stream",
     "text": [
      "Training LightGBM:  80%|████████  | 4/5 [00:02<00:00,  1.51it/s]"
     ]
    },
    {
     "name": "stdout",
     "output_type": "stream",
     "text": [
      "Fold 4 - Train metrics:\n",
      "  PR-AUC: 1.0000\n",
      "  AU-ROC: 1.0000\n",
      "  ACC: 1.0000\n",
      "  PREC: 1.0000\n",
      "  REC: 1.0000\n",
      "  F1: 1.0000\n",
      "Fold 4 - Test metrics:\n",
      "  PR-AUC: 0.9366\n",
      "  AU-ROC: 0.7614\n",
      "  ACC: 0.8794\n",
      "  PREC: 0.9084\n",
      "  REC: 0.9597\n",
      "  F1: 0.9333\n",
      "\n"
     ]
    },
    {
     "name": "stderr",
     "output_type": "stream",
     "text": [
      "Training LightGBM: 100%|██████████| 5/5 [00:03<00:00,  1.45it/s]"
     ]
    },
    {
     "name": "stdout",
     "output_type": "stream",
     "text": [
      "Fold 5 - Train metrics:\n",
      "  PR-AUC: 1.0000\n",
      "  AU-ROC: 1.0000\n",
      "  ACC: 0.9982\n",
      "  PREC: 0.9980\n",
      "  REC: 1.0000\n",
      "  F1: 0.9990\n",
      "Fold 5 - Test metrics:\n",
      "  PR-AUC: 0.9528\n",
      "  AU-ROC: 0.7324\n",
      "  ACC: 0.8794\n",
      "  PREC: 0.8963\n",
      "  REC: 0.9758\n",
      "  F1: 0.9344\n",
      "\n",
      "Metrics saved to LightGBM_evaluation_metrics.csv\n",
      "Average Train PR AUC: 1.0000\n",
      "Average Test PR AUC: 0.9468\n",
      "Average Train AU-ROC: 1.0000\n",
      "Average Test AU-ROC: 0.7525\n",
      "Average Train Accuracy: 0.9989\n",
      "Average Test Accuracy: 0.8701\n",
      "Average Train Precision: 0.9988\n",
      "Average Test Precision: 0.8957\n",
      "Average Train Recall: 1.0000\n",
      "Average Test Recall: 0.9647\n",
      "Average Train F1: 0.9994\n",
      "Average Test F1: 0.9288\n"
     ]
    },
    {
     "name": "stderr",
     "output_type": "stream",
     "text": [
      "\n"
     ]
    }
   ],
   "source": [
    "\n",
    "\n",
    "\n",
    "from lightgbm import LGBMClassifier\n",
    "\n",
    "# 最优参数（LightGBM）\n",
    "best_params_lgbm = {\n",
    "    'n_estimators': 847,\n",
    "    'max_depth': 28,\n",
    "    'num_leaves': 959,\n",
    "    'learning_rate': 0.41408607247765644,  \n",
    "    'verbose': -1 \n",
    "}\n",
    "\n",
    "# 训练并评估 LightGBM 模型\n",
    "train_evaluate_with_best_params(\"LightGBM\", LGBMClassifier, best_params_lgbm, X, y)\n"
   ]
  },
  {
   "cell_type": "code",
   "execution_count": 16,
   "id": "28100f78-259f-48ae-9d54-29d59770740f",
   "metadata": {},
   "outputs": [
    {
     "name": "stderr",
     "output_type": "stream",
     "text": [
      "Training SVM:  20%|██        | 1/5 [00:02<00:09,  2.39s/it]"
     ]
    },
    {
     "name": "stdout",
     "output_type": "stream",
     "text": [
      "Fold 1 - Train metrics:\n",
      "  PR-AUC: 0.9915\n",
      "  AU-ROC: 0.9583\n",
      "  ACC: 0.8975\n",
      "  PREC: 0.8969\n",
      "  REC: 0.9980\n",
      "  F1: 0.9448\n",
      "Fold 1 - Test metrics:\n",
      "  PR-AUC: 0.9429\n",
      "  AU-ROC: 0.7468\n",
      "  ACC: 0.8803\n",
      "  PREC: 0.8857\n",
      "  REC: 0.9920\n",
      "  F1: 0.9358\n",
      "\n"
     ]
    },
    {
     "name": "stderr",
     "output_type": "stream",
     "text": [
      "Training SVM:  40%|████      | 2/5 [00:05<00:08,  2.88s/it]"
     ]
    },
    {
     "name": "stdout",
     "output_type": "stream",
     "text": [
      "Fold 2 - Train metrics:\n",
      "  PR-AUC: 0.9925\n",
      "  AU-ROC: 0.9619\n",
      "  ACC: 0.8816\n",
      "  PREC: 0.8812\n",
      "  REC: 1.0000\n",
      "  F1: 0.9369\n",
      "Fold 2 - Test metrics:\n",
      "  PR-AUC: 0.9546\n",
      "  AU-ROC: 0.7412\n",
      "  ACC: 0.8803\n",
      "  PREC: 0.8803\n",
      "  REC: 1.0000\n",
      "  F1: 0.9363\n",
      "\n"
     ]
    },
    {
     "name": "stderr",
     "output_type": "stream",
     "text": [
      "Training SVM:  60%|██████    | 3/5 [00:08<00:05,  2.87s/it]"
     ]
    },
    {
     "name": "stdout",
     "output_type": "stream",
     "text": [
      "Fold 3 - Train metrics:\n",
      "  PR-AUC: 0.9917\n",
      "  AU-ROC: 0.9536\n",
      "  ACC: 0.9081\n",
      "  PREC: 0.9099\n",
      "  REC: 0.9940\n",
      "  F1: 0.9501\n",
      "Fold 3 - Test metrics:\n",
      "  PR-AUC: 0.9233\n",
      "  AU-ROC: 0.6823\n",
      "  ACC: 0.8592\n",
      "  PREC: 0.8768\n",
      "  REC: 0.9758\n",
      "  F1: 0.9237\n",
      "\n"
     ]
    },
    {
     "name": "stderr",
     "output_type": "stream",
     "text": [
      "Training SVM:  80%|████████  | 4/5 [00:11<00:02,  2.75s/it]"
     ]
    },
    {
     "name": "stdout",
     "output_type": "stream",
     "text": [
      "Fold 4 - Train metrics:\n",
      "  PR-AUC: 0.9912\n",
      "  AU-ROC: 0.9581\n",
      "  ACC: 0.8818\n",
      "  PREC: 0.8814\n",
      "  REC: 1.0000\n",
      "  F1: 0.9370\n",
      "Fold 4 - Test metrics:\n",
      "  PR-AUC: 0.9401\n",
      "  AU-ROC: 0.7576\n",
      "  ACC: 0.8794\n",
      "  PREC: 0.8794\n",
      "  REC: 1.0000\n",
      "  F1: 0.9358\n",
      "\n"
     ]
    },
    {
     "name": "stderr",
     "output_type": "stream",
     "text": [
      "Training SVM: 100%|██████████| 5/5 [00:13<00:00,  2.67s/it]"
     ]
    },
    {
     "name": "stdout",
     "output_type": "stream",
     "text": [
      "Fold 5 - Train metrics:\n",
      "  PR-AUC: 0.9867\n",
      "  AU-ROC: 0.9510\n",
      "  ACC: 0.8818\n",
      "  PREC: 0.8814\n",
      "  REC: 1.0000\n",
      "  F1: 0.9370\n",
      "Fold 5 - Test metrics:\n",
      "  PR-AUC: 0.9549\n",
      "  AU-ROC: 0.7386\n",
      "  ACC: 0.8794\n",
      "  PREC: 0.8794\n",
      "  REC: 1.0000\n",
      "  F1: 0.9358\n",
      "\n",
      "Metrics saved to SVM_evaluation_metrics.csv\n",
      "Average Train PR AUC: 0.9907\n",
      "Average Test PR AUC: 0.9432\n",
      "Average Train AU-ROC: 0.9566\n",
      "Average Test AU-ROC: 0.7333\n",
      "Average Train Accuracy: 0.8902\n",
      "Average Test Accuracy: 0.8757\n",
      "Average Train Precision: 0.8902\n",
      "Average Test Precision: 0.8803\n",
      "Average Train Recall: 0.9984\n",
      "Average Test Recall: 0.9936\n",
      "Average Train F1: 0.9411\n",
      "Average Test F1: 0.9335\n"
     ]
    },
    {
     "name": "stderr",
     "output_type": "stream",
     "text": [
      "\n"
     ]
    }
   ],
   "source": [
    "from sklearn.svm import SVC\n",
    "\n",
    "# 最优参数（SVM）启用概率估计\n",
    "best_params_svm = {\n",
    "    'C': 0.01559252830927682,\n",
    "    'gamma': 0.06808617250161814,\n",
    "    'kernel': 'linear',\n",
    "    'probability': True  # 启用概率估计\n",
    "}\n",
    "\n",
    "# 训练并评估 SVM 模型\n",
    "train_evaluate_with_best_params(\"SVM\", SVC, best_params_svm, X, y)\n",
    "\n"
   ]
  },
  {
   "cell_type": "code",
   "execution_count": 17,
   "id": "2928109b-f02e-4873-afbb-709350672b02",
   "metadata": {},
   "outputs": [
    {
     "name": "stderr",
     "output_type": "stream",
     "text": [
      "Training KNN:  20%|██        | 1/5 [00:00<00:03,  1.27it/s]"
     ]
    },
    {
     "name": "stdout",
     "output_type": "stream",
     "text": [
      "Fold 1 - Train metrics:\n",
      "  PR-AUC: 0.9857\n",
      "  AU-ROC: 0.8970\n",
      "  ACC: 0.8852\n",
      "  PREC: 0.8913\n",
      "  REC: 0.9899\n",
      "  F1: 0.9380\n",
      "Fold 1 - Test metrics:\n",
      "  PR-AUC: 0.9371\n",
      "  AU-ROC: 0.6193\n",
      "  ACC: 0.8662\n",
      "  PREC: 0.8786\n",
      "  REC: 0.9840\n",
      "  F1: 0.9283\n",
      "\n"
     ]
    },
    {
     "name": "stderr",
     "output_type": "stream",
     "text": [
      "Training KNN:  40%|████      | 2/5 [00:01<00:02,  1.30it/s]"
     ]
    },
    {
     "name": "stdout",
     "output_type": "stream",
     "text": [
      "Fold 2 - Train metrics:\n",
      "  PR-AUC: 0.9813\n",
      "  AU-ROC: 0.8646\n",
      "  ACC: 0.8799\n",
      "  PREC: 0.8824\n",
      "  REC: 0.9960\n",
      "  F1: 0.9357\n",
      "Fold 2 - Test metrics:\n",
      "  PR-AUC: 0.9574\n",
      "  AU-ROC: 0.7292\n",
      "  ACC: 0.8732\n",
      "  PREC: 0.8794\n",
      "  REC: 0.9920\n",
      "  F1: 0.9323\n",
      "\n"
     ]
    },
    {
     "name": "stderr",
     "output_type": "stream",
     "text": [
      "Training KNN:  60%|██████    | 3/5 [00:02<00:01,  1.31it/s]"
     ]
    },
    {
     "name": "stdout",
     "output_type": "stream",
     "text": [
      "Fold 3 - Train metrics:\n",
      "  PR-AUC: 0.9859\n",
      "  AU-ROC: 0.8968\n",
      "  ACC: 0.8905\n",
      "  PREC: 0.8935\n",
      "  REC: 0.9940\n",
      "  F1: 0.9411\n",
      "Fold 3 - Test metrics:\n",
      "  PR-AUC: 0.9218\n",
      "  AU-ROC: 0.5925\n",
      "  ACC: 0.8451\n",
      "  PREC: 0.8696\n",
      "  REC: 0.9677\n",
      "  F1: 0.9160\n",
      "\n"
     ]
    },
    {
     "name": "stderr",
     "output_type": "stream",
     "text": [
      "Training KNN:  80%|████████  | 4/5 [00:03<00:00,  1.31it/s]"
     ]
    },
    {
     "name": "stdout",
     "output_type": "stream",
     "text": [
      "Fold 4 - Train metrics:\n",
      "  PR-AUC: 0.9809\n",
      "  AU-ROC: 0.8630\n",
      "  ACC: 0.8818\n",
      "  PREC: 0.8883\n",
      "  REC: 0.9900\n",
      "  F1: 0.9364\n",
      "Fold 4 - Test metrics:\n",
      "  PR-AUC: 0.9420\n",
      "  AU-ROC: 0.6694\n",
      "  ACC: 0.8865\n",
      "  PREC: 0.8857\n",
      "  REC: 1.0000\n",
      "  F1: 0.9394\n",
      "\n"
     ]
    },
    {
     "name": "stderr",
     "output_type": "stream",
     "text": [
      "Training KNN: 100%|██████████| 5/5 [00:03<00:00,  1.31it/s]"
     ]
    },
    {
     "name": "stdout",
     "output_type": "stream",
     "text": [
      "Fold 5 - Train metrics:\n",
      "  PR-AUC: 0.9810\n",
      "  AU-ROC: 0.8633\n",
      "  ACC: 0.8783\n",
      "  PREC: 0.8837\n",
      "  REC: 0.9920\n",
      "  F1: 0.9347\n",
      "Fold 5 - Test metrics:\n",
      "  PR-AUC: 0.9651\n",
      "  AU-ROC: 0.7877\n",
      "  ACC: 0.8794\n",
      "  PREC: 0.8794\n",
      "  REC: 1.0000\n",
      "  F1: 0.9358\n",
      "\n",
      "Metrics saved to KNN_evaluation_metrics.csv\n",
      "Average Train PR AUC: 0.9830\n",
      "Average Test PR AUC: 0.9447\n",
      "Average Train AU-ROC: 0.8770\n",
      "Average Test AU-ROC: 0.6796\n",
      "Average Train Accuracy: 0.8831\n",
      "Average Test Accuracy: 0.8701\n",
      "Average Train Precision: 0.8878\n",
      "Average Test Precision: 0.8785\n",
      "Average Train Recall: 0.9924\n",
      "Average Test Recall: 0.9887\n",
      "Average Train F1: 0.9372\n",
      "Average Test F1: 0.9304\n"
     ]
    },
    {
     "name": "stderr",
     "output_type": "stream",
     "text": [
      "\n"
     ]
    }
   ],
   "source": [
    "from sklearn.neighbors import KNeighborsClassifier\n",
    "\n",
    "# 最优参数（KNN）\n",
    "best_params_knn = {\n",
    "    'n_neighbors': 7,\n",
    "    'weights': 'uniform',\n",
    "    'metric': 'manhattan'\n",
    "}\n",
    "\n",
    "# 训练并评估 KNN 模型\n",
    "train_evaluate_with_best_params(\"KNN\", KNeighborsClassifier, best_params_knn, X, y)\n"
   ]
  },
  {
   "cell_type": "code",
   "execution_count": null,
   "id": "3d99cdfc-8f61-48bd-9a3c-43cf08023c0c",
   "metadata": {},
   "outputs": [],
   "source": []
  }
 ],
 "metadata": {
  "kernelspec": {
   "display_name": "Python 3 (ipykernel)",
   "language": "python",
   "name": "python3"
  },
  "language_info": {
   "codemirror_mode": {
    "name": "ipython",
    "version": 3
   },
   "file_extension": ".py",
   "mimetype": "text/x-python",
   "name": "python",
   "nbconvert_exporter": "python",
   "pygments_lexer": "ipython3",
   "version": "3.12.3"
  }
 },
 "nbformat": 4,
 "nbformat_minor": 5
}
